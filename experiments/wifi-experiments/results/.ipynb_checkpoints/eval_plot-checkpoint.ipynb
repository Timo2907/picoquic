{
 "cells": [
  {
   "cell_type": "code",
   "execution_count": 1,
   "metadata": {
    "collapsed": true
   },
   "outputs": [],
   "source": [
    "%matplotlib inline\n",
    "import matplotlib.pyplot as plt\n",
    "import numpy as np\n",
    "import pandas as pd\n",
    "import matplotlib\n",
    "import glob\n",
    "from math import sqrt\n",
    "SPINE_COLOR = 'gray'"
   ]
  },
  {
   "cell_type": "code",
   "execution_count": 2,
   "metadata": {
    "collapsed": true
   },
   "outputs": [],
   "source": [
    "def latexify(fig_width=None, fig_height=None, columns=1):\n",
    "    \"\"\"Set up matplotlib's RC params for LaTeX plotting.\n",
    "    Call this before plotting a figure.\n",
    "\n",
    "    Parameters\n",
    "    ----------\n",
    "    fig_width : float, optional, inches\n",
    "    fig_height : float,  optional, inches\n",
    "    columns : {1, 2}\n",
    "    \"\"\"\n",
    "\n",
    "    # code adapted from http://www.scipy.org/Cookbook/Matplotlib/LaTeX_Examples\n",
    "\n",
    "    # Width and max height in inches for IEEE journals taken from\n",
    "    # computer.org/cms/Computer.org/Journal%20templates/transactions_art_guide.pdf\n",
    "\n",
    "    assert(columns in [1,2])\n",
    "\n",
    "    if fig_width is None:\n",
    "        fig_width = 3.39 if columns==1 else 6.9 # width in inches\n",
    "\n",
    "    if fig_height is None:\n",
    "        golden_mean = (sqrt(5)-1.0)/2.0    # Aesthetic ratio\n",
    "        fig_height = fig_width*golden_mean # height in inches\n",
    "\n",
    "    MAX_HEIGHT_INCHES = 8.0\n",
    "    if fig_height > MAX_HEIGHT_INCHES:\n",
    "        print(\"WARNING: fig_height too large:\" + fig_height + \n",
    "              \"so will reduce to\" + MAX_HEIGHT_INCHES + \"inches.\")\n",
    "        fig_height = MAX_HEIGHT_INCHES\n",
    "\n",
    "    params = {'backend': 'pdf',\n",
    "              'text.latex.preamble': ['\\\\usepackage{gensymb}'],\n",
    "              'axes.labelsize': 8, # fontsize for x and y labels (was 10)\n",
    "              'axes.titlesize': 8,\n",
    "              'font.size': 8,       #'text.fontsize': 8, # was 10\n",
    "              'legend.fontsize': 6.5, # was 10\n",
    "              'xtick.labelsize': 8,\n",
    "              'ytick.labelsize': 8,\n",
    "              'lines.linewidth' : 0.4,\n",
    "              'lines.markersize' : 0.4,\n",
    "              'text.usetex': True,\n",
    "              'figure.figsize': [fig_width,fig_height],\n",
    "              'font.family': 'serif'\n",
    "    }\n",
    "\n",
    "    matplotlib.rcParams.update(params)\n",
    "\n",
    "\n",
    "def format_axes(ax):\n",
    "\n",
    "    for spine in ['top', 'right']:\n",
    "        ax.spines[spine].set_visible(False)\n",
    "\n",
    "    for spine in ['left', 'bottom']:\n",
    "        ax.spines[spine].set_color(SPINE_COLOR)\n",
    "        ax.spines[spine].set_linewidth(0.5)\n",
    "\n",
    "    ax.xaxis.set_ticks_position('bottom')\n",
    "    ax.yaxis.set_ticks_position('left')\n",
    "\n",
    "    for axis in [ax.xaxis, ax.yaxis]:\n",
    "        axis.set_tick_params(direction='out', color=SPINE_COLOR)\n",
    "\n",
    "    return ax\n",
    "\n",
    "linewidth=497\n",
    "DPI=96\n",
    "#latexify(fig_width=linewidth/DPI, fig_height=int(linewidth/2.3/DPI))\n",
    "latexify(fig_width=linewidth/DPI/1.7, fig_height=int(linewidth/2.3/DPI))"
   ]
  },
  {
   "cell_type": "code",
   "execution_count": null,
   "metadata": {
    "collapsed": true
   },
   "outputs": [],
   "source": [
    "#PING: single experiment\n",
    "#SCATTERPLOT - PING + rtt values over time\n",
    "'''\n",
    "for f in glob.iglob('./*1016-*/*firstKPIs', recursive=True): # /*directoryRegExp*/ to reduce output (long runtime)\n",
    "    df = pd.read_csv(f, delim_whitespace=True, names = ['seconds_offset', 'cwin', 'bytes-in-flight', 'nb_ret', \n",
    "                                                        'rtt_min', 'current_rtt', 'send_time','reception_time', \n",
    "                                                        'ack_delay', 'srtt', 'rtt_var', 'state'])\n",
    "                                                        # KPIs FROM BEFORE 18.10.2019!\n",
    "                                                        \n",
    "    #dping = pd.read_csv('./20191015-1314_1hr_ping/20191015-1314_client_ping_grep', delim_whitespace=True, \n",
    "                        names = ['seconds_offset', 'ping_number', 'ping_rtt'])\n",
    "    \n",
    "    df.current_rtt = df.current_rtt.apply(lambda x: x / 1000) #from us to ms\n",
    "    df.srtt = df.srtt.apply(lambda x: x / 1000)\n",
    "    title=f\n",
    "    print(f)\n",
    "    \n",
    "    print(df.current_rtt.mean(),\n",
    "          df.srtt.mean(),\n",
    "          dping.ping_rtt.mean())\n",
    "    \n",
    "    \n",
    "    fig = dping.plot(x=\"ping_number\", y=\"ping_rtt\", kind='scatter', color=\"DarkBlue\", s=0.01)\n",
    "    x = df.seconds_offset\n",
    "    y1 = df.current_rtt\n",
    "    fig.plot(x,y1,'r:') # more examples = 'b:' 'k:' 'r--'\n",
    "    y2 = df.srtt\n",
    "    fig.plot(x,y2, 'y:')\n",
    "\n",
    "    axes = plt.gca()\n",
    "    fig.legend(['Current RTT', 'Smoothed RTT', 'Ping RTT'])\n",
    "    fig.set_xlabel('Runtime (seconds)')\n",
    "    lines = fig.set_ylabel('Time (ms)')\n",
    "    plt.tight_layout()\n",
    "    plt.savefig(f+\"_timing+ping.pdf\")\n",
    "    \n",
    "    axes.set_ylim([0,250])\n",
    "    #axes.set_xlim([-5,605])\n",
    "    plt.savefig(f+\"_timing+ping_limit.pdf\")\n",
    "'''"
   ]
  },
  {
   "cell_type": "code",
   "execution_count": 18,
   "metadata": {
    "scrolled": false
   },
   "outputs": [
    {
     "name": "stdout",
     "output_type": "stream",
     "text": [
      ".\\20191023-1420_200ms-2hr\\firstKPIs\n",
      "107.76163046254636 109.41503675939943\n"
     ]
    },
    {
     "data": {
      "image/png": "[encoded data removed]",
      "text/plain": [
       "<matplotlib.figure.Figure at 0x1873bd59128>"
      ]
     },
     "metadata": {},
     "output_type": "display_data"
    }
   ],
   "source": [
    "#SCATTERPLOT - rtt values over time\n",
    "for f in glob.iglob('./*1023-14*/*firstKPIs', recursive=True): # /*directoryRegExp*/ to reduce output (long runtime)\n",
    "    df = pd.read_csv(f, delim_whitespace=True, names = ['seconds_offset', 'cwin', 'bytes-in-flight', 'nb_ret', \n",
    "                                                        'rtt_min', 'current_rtt', 'send_time','reception_time', \n",
    "                                                        'current_ackdelay', 'srtt', 'rtt_var', 'max_ackdelay', 'state']) \n",
    "                                                        #extraction of KPI: update from 18.10.19\n",
    "        \n",
    "    df.current_rtt = df.current_rtt.apply(lambda x: x / 1000) #from us to ms\n",
    "    df.srtt = df.srtt.apply(lambda x: x / 1000)\n",
    "    df.rtt_min = df.rtt_min.apply(lambda x: x / 1000)\n",
    "    title=f\n",
    "    print(f)\n",
    "    \n",
    "    print(df.current_rtt.mean(),\n",
    "          df.srtt.mean())\n",
    "    \n",
    "    fig = df.plot(x=\"seconds_offset\", y=\"rtt_min\", kind='scatter', color=\"DarkBlue\", s=0.01)\n",
    "    x = df.seconds_offset\n",
    "    y1 = df.current_rtt\n",
    "    fig.plot(x,y1,'r:') # more examples = 'b:' 'k:' 'r--'\n",
    "    y2 = df.srtt\n",
    "    fig.plot(x,y2, 'y:')\n",
    "\n",
    "    axes = plt.gca()\n",
    "    fig.legend(['Current RTT', 'Smoothed RTT', 'min RTT'])\n",
    "    fig.set_xlabel('Runtime (seconds)')\n",
    "    lines = fig.set_ylabel('Time (ms)')\n",
    "    plt.tight_layout()\n",
    "    plt.savefig(f+\"_timing.pdf\")\n",
    "    \n",
    "    axes.set_ylim([0,25])\n",
    "    #axes.set_xlim([-5,1000])\n",
    "    plt.savefig(f+\"_timing_limit.pdf\")"
   ]
  },
  {
   "cell_type": "code",
   "execution_count": 8,
   "metadata": {},
   "outputs": [
    {
     "name": "stdout",
     "output_type": "stream",
     "text": [
      ".\\20191023-1420_200ms-2hr\\firstKPIs\n",
      ".\\20191023-1635_200ms-2hr\\firstKPIs\n",
      ".\\20191023-1805_500ms-1hr\\firstKPIs\n",
      ".\\20191023-1950_500ms-1hr\\firstKPIs\n",
      ".\\20191023-2106_500ms-1hr\\firstKPIs\n"
     ]
    },
    {
     "data": {
      "image/png": "[encoded data removed]",
      "text/plain": [
       "<matplotlib.figure.Figure at 0x1873ad5bcc0>"
      ]
     },
     "metadata": {},
     "output_type": "display_data"
    },
    {
     "data": {
      "image/png": "[encoded data removed]",
      "text/plain": [
       "<matplotlib.figure.Figure at 0x1873eb1a5f8>"
      ]
     },
     "metadata": {},
     "output_type": "display_data"
    },
    {
     "data": {
      "image/png": "[encoded data removed]",
      "text/plain": [
       "<matplotlib.figure.Figure at 0x1873b20df60>"
      ]
     },
     "metadata": {},
     "output_type": "display_data"
    },
    {
     "data": {
      "image/png": "[encoded data removed]",
      "text/plain": [
       "<matplotlib.figure.Figure at 0x1873d3910f0>"
      ]
     },
     "metadata": {},
     "output_type": "display_data"
    },
    {
     "data": {
      "image/png": "[encoded data removed]",
      "text/plain": [
       "<matplotlib.figure.Figure at 0x1873af51908>"
      ]
     },
     "metadata": {},
     "output_type": "display_data"
    }
   ],
   "source": [
    "#BOXPLOTS - rtt values (Current RTT + Smoothed RTT)\n",
    "# 1 plot for x files\n",
    "for f in glob.iglob('./*1023-*/*firstKPIs', recursive=True): # /*directoryRegExp*/ to reduce output (long runtime)\n",
    "    df = pd.read_csv(f, delim_whitespace=True, names = ['seconds_offset', 'cwin', 'bytes-in-flight', 'nb_ret', \n",
    "                                                        'rtt_min', 'current_rtt', 'send_time','reception_time', \n",
    "                                                        'current_ackdelay', 'srtt', 'rtt_var', 'max_ackdelay', 'state']) \n",
    "                                                        #extraction of KPI: update from 18.10.19\n",
    "    df.current_rtt = df.current_rtt.apply(lambda x: x / 1000) #from us to ms\n",
    "    df.srtt = df.srtt.apply(lambda x: x / 1000)\n",
    "    title=f\n",
    "    print(f)\n",
    "    \n",
    "    #delete unnecessary data\n",
    "    df.drop(['seconds_offset', 'cwin', 'bytes-in-flight', 'nb_ret', 'rtt_min', \n",
    "             'send_time', 'reception_time', 'ack_delay', 'rtt_var', 'state'], axis=1, inplace=True)\n",
    "    \n",
    "    #delete initial values\n",
    "    df.drop(df.index[0], inplace=True)\n",
    "    \n",
    "    fig = plt.figure() #this line makes a plot for every file\n",
    "    fig = df.boxplot()\n",
    "    plt.xticks([1, 2], ['Current RTT', 'Smoothed RTT'])\n",
    "    fig.set_ylabel('Time (ms)')\n",
    "    plt.tight_layout()\n",
    "    plt.savefig(f+\"_timing_boxplots.pdf\")"
   ]
  },
  {
   "cell_type": "code",
   "execution_count": 9,
   "metadata": {},
   "outputs": [
    {
     "name": "stdout",
     "output_type": "stream",
     "text": [
      ".\\20191023-1420_200ms-2hr\\firstKPIs\n",
      ".\\20191023-1635_200ms-2hr\\firstKPIs\n",
      ".\\20191023-1805_500ms-1hr\\firstKPIs\n",
      ".\\20191023-1950_500ms-1hr\\firstKPIs\n",
      ".\\20191023-2106_500ms-1hr\\firstKPIs\n"
     ]
    },
    {
     "data": {
      "image/png": "[encoded data removed]",
      "text/plain": [
       "<matplotlib.figure.Figure at 0x1873ada3d68>"
      ]
     },
     "metadata": {},
     "output_type": "display_data"
    },
    {
     "data": {
      "image/png": "[encoded data removed]",
      "text/plain": [
       "<matplotlib.figure.Figure at 0x1873ad90470>"
      ]
     },
     "metadata": {},
     "output_type": "display_data"
    },
    {
     "data": {
      "image/png": "[encoded data removed]",
      "text/plain": [
       "<matplotlib.figure.Figure at 0x1873e6cf8d0>"
      ]
     },
     "metadata": {},
     "output_type": "display_data"
    },
    {
     "data": {
      "image/png": "[encoded data removed]",
      "text/plain": [
       "<matplotlib.figure.Figure at 0x1873d0a66d8>"
      ]
     },
     "metadata": {},
     "output_type": "display_data"
    },
    {
     "data": {
      "image/png": "[encoded data removed]",
      "text/plain": [
       "<matplotlib.figure.Figure at 0x1873aec11d0>"
      ]
     },
     "metadata": {},
     "output_type": "display_data"
    }
   ],
   "source": [
    "#SCATTERPLOT - congestion window\n",
    "for f in glob.iglob('./*1023-*/*firstKPIs', recursive=True): # /*directoryRegExp*/ to reduce output (long runtime)\n",
    "    df = pd.read_csv(f, delim_whitespace=True, names = ['seconds_offset', 'cwin', 'bytes-in-flight', 'nb_ret', \n",
    "                                                        'rtt_min', 'current_rtt', 'send_time','reception_time', \n",
    "                                                        'current_ackdelay', 'srtt', 'rtt_var', 'max_ackdelay', 'state']) \n",
    "                                                        #extraction of KPI: update from 18.10.19\n",
    "    title=f\n",
    "    print(f)\n",
    "    \n",
    "    fig = df.plot(x=\"seconds_offset\", y=\"cwin\", marker=\",\", markersize=\"0.01\", color=\"DarkBlue\", linestyle=\"None\")\n",
    "\n",
    "    axes = plt.gca()\n",
    "    #axes.set_ylim([0,20])\n",
    "    #axes.set_xlim([-5,605])\n",
    "    axes.get_legend().remove()\n",
    "    \n",
    "    fig.set_xlabel('Runtime (seconds)')\n",
    "    lines = fig.set_ylabel('Congestion Window')\n",
    "    plt.tight_layout()\n",
    "    plt.savefig(f+\"_cwin.pdf\")\n",
    "    \n",
    "    fig.set_yscale('log')\n",
    "    plt.savefig(f+\"_cwin_ylog.pdf\")"
   ]
  },
  {
   "cell_type": "code",
   "execution_count": 7,
   "metadata": {},
   "outputs": [
    {
     "name": "stdout",
     "output_type": "stream",
     "text": [
      ".\\20191023-1420_200ms-2hr\\firstKPIs\n",
      "Retransmissions = 11 \n",
      "\n",
      ".\\20191023-1635_200ms-2hr\\firstKPIs\n",
      "Retransmissions = 17 \n",
      "\n",
      ".\\20191023-1805_500ms-1hr\\firstKPIs\n",
      "Retransmissions = 19 \n",
      "\n",
      ".\\20191023-1950_500ms-1hr\\firstKPIs\n",
      "Retransmissions = 7 \n",
      "\n",
      ".\\20191023-2106_500ms-1hr\\firstKPIs\n",
      "Retransmissions = 111 \n",
      "\n"
     ]
    },
    {
     "data": {
      "image/png": "[encoded data removed]",
      "text/plain": [
       "<matplotlib.figure.Figure at 0x1873d5b2dd8>"
      ]
     },
     "metadata": {},
     "output_type": "display_data"
    },
    {
     "data": {
      "image/png": "[encoded data removed]",
      "text/plain": [
       "<matplotlib.figure.Figure at 0x1873b08d7b8>"
      ]
     },
     "metadata": {},
     "output_type": "display_data"
    },
    {
     "data": {
      "image/png": "[encoded data removed]",
      "text/plain": [
       "<matplotlib.figure.Figure at 0x1873e60b2b0>"
      ]
     },
     "metadata": {},
     "output_type": "display_data"
    },
    {
     "data": {
      "image/png": "[encoded data removed]",
      "text/plain": [
       "<matplotlib.figure.Figure at 0x1873e73d748>"
      ]
     },
     "metadata": {},
     "output_type": "display_data"
    },
    {
     "data": {
      "image/png": "[encoded data removed]",
      "text/plain": [
       "<matplotlib.figure.Figure at 0x1873b9a6048>"
      ]
     },
     "metadata": {},
     "output_type": "display_data"
    }
   ],
   "source": [
    "#SCATTERPLOT retransmissions over time\n",
    "for f in glob.iglob('./*1023-*/*firstKPIs', recursive=True): # /*directoryRegExp*/ to reduce output (long runtime)\n",
    "    df = pd.read_csv(f, delim_whitespace=True, names = ['seconds_offset', 'cwin', 'bytes-in-flight', 'nb_ret', \n",
    "                                                        'rtt_min', 'current_rtt', 'send_time','reception_time', \n",
    "                                                        'current_ackdelay', 'srtt', 'rtt_var', 'max_ackdelay', 'state']) \n",
    "                                                        #extraction of KPI: update from 18.10.19\n",
    "    title=f\n",
    "    print(f)\n",
    "    \n",
    "    df.drop_duplicates(subset=\"nb_ret\", keep=\"first\", inplace=True)\n",
    "    df.drop(df.index[0], inplace=True)\n",
    "    df.state = df.state.apply(lambda x: x - 14)\n",
    "    \n",
    "    num_retrans = 'Retransmissions = '+ str(df.state.count())\n",
    "    print(num_retrans, \"\\n\")\n",
    "    \n",
    "    fig = df.plot(x=\"seconds_offset\", y=\"state\", marker=\"x\", markersize=\"0.1\", color=\"DarkBlue\", linestyle=\"None\")\n",
    "    \n",
    "    fig.text(df['seconds_offset'].max()*0.75, 0.95, num_retrans, horizontalalignment='center', verticalalignment='center')\n",
    "    fig.set_xlabel('Runtime (seconds)')\n",
    "    lines = fig.set_ylabel('Retransmission=1')\n",
    "    plt.tight_layout()\n",
    "    plt.savefig(f+\"_retransOverTime.pdf\")\n"
   ]
  },
  {
   "cell_type": "code",
   "execution_count": 6,
   "metadata": {},
   "outputs": [
    {
     "name": "stdout",
     "output_type": "stream",
     "text": [
      "Retransmissions = 11 \n",
      "\n",
      "Retransmissions = 17 \n",
      "\n",
      "Retransmissions = 19 \n",
      "\n",
      "Retransmissions = 7 \n",
      "\n",
      "Retransmissions = 111 \n",
      "\n"
     ]
    },
    {
     "data": {
      "image/png": "[encoded data removed]",
      "text/plain": [
       "<matplotlib.figure.Figure at 0x1873b70fd30>"
      ]
     },
     "metadata": {},
     "output_type": "display_data"
    },
    {
     "data": {
      "image/png": "[encoded data removed]",
      "text/plain": [
       "<matplotlib.figure.Figure at 0x1873eda6550>"
      ]
     },
     "metadata": {},
     "output_type": "display_data"
    },
    {
     "data": {
      "image/png": "[encoded data removed]",
      "text/plain": [
       "<matplotlib.figure.Figure at 0x1873eda6438>"
      ]
     },
     "metadata": {},
     "output_type": "display_data"
    },
    {
     "data": {
      "image/png": "[encoded data removed]",
      "text/plain": [
       "<matplotlib.figure.Figure at 0x1873d021470>"
      ]
     },
     "metadata": {},
     "output_type": "display_data"
    },
    {
     "data": {
      "image/png": "[encoded data removed]",
      "text/plain": [
       "<matplotlib.figure.Figure at 0x1873af298d0>"
      ]
     },
     "metadata": {},
     "output_type": "display_data"
    }
   ],
   "source": [
    "# CUMULATIVE DISTRIBUTION FUNCTION - time between retransmissions\n",
    "# 1 plot for x files\n",
    "for f in glob.iglob('./*1023-*/*firstKPIs', recursive=True): # /*directoryRegExp*/ to reduce output (long runtime)\n",
    "    df = pd.read_csv(f, delim_whitespace=True, names = ['seconds_offset', 'cwin', 'bytes-in-flight', 'nb_ret', \n",
    "                                                        'rtt_min', 'current_rtt', 'send_time','reception_time', \n",
    "                                                        'current_ackdelay', 'srtt', 'rtt_var', 'max_ackdelay', 'state']) \n",
    "                                                        #extraction of KPI: update from 18.10.19\n",
    "    title=f\n",
    "    \n",
    "    #delete the normal (no-retransmission) packets\n",
    "    df.drop_duplicates(subset=\"nb_ret\", keep=\"first\", inplace=True)\n",
    "    df.drop(df.index[0], inplace=True)\n",
    "    df.state = df.state.apply(lambda x: x - 14)\n",
    "    \n",
    "    num_retrans = 'Retransmissions = '+ str(df.seconds_offset.count())\n",
    "    print(num_retrans, \"\\n\")\n",
    "    \n",
    "    #compute the time between retransmissions\n",
    "    i = 0;\n",
    "    timeBetween = [];\n",
    "    for j in df['seconds_offset']:\n",
    "        timeBetween.append(j-i)\n",
    "        i = j\n",
    "        \n",
    "    df['timeBetween'] = timeBetween\n",
    "    sortedRetrans = df['timeBetween'].sort_values()\n",
    "    #print(sortedRetrans)\n",
    "    #print(df.seconds_offset)\n",
    "    \n",
    "    #build the CDF\n",
    "    cum_dist = np.linspace(0.,1.,len(sortedRetrans))\n",
    "    cdf = pd.Series(cum_dist, index=sortedRetrans)\n",
    "    fig = plt.figure() #this line makes a plot for every file\n",
    "    fig = cdf.plot(color='r', linestyle=':', drawstyle='steps')\n",
    "    \n",
    "    fig.text(sortedRetrans.max()*0.75, 0, num_retrans, horizontalalignment='center', verticalalignment='center')\n",
    "\n",
    "    fig.set_xlabel('Time between retransmissions (s)')\n",
    "    plt.tight_layout()\n",
    "    plt.savefig(f+\"_cdf_retransTimeBetween.pdf\")\n"
   ]
  },
  {
   "cell_type": "code",
   "execution_count": 58,
   "metadata": {},
   "outputs": [
    {
     "name": "stdout",
     "output_type": "stream",
     "text": [
      "Retransmissions = 102 \n",
      "\n",
      "Retransmissions = 68 \n",
      "\n"
     ]
    },
    {
     "data": {
      "image/png": "[encoded data removed]",
      "text/plain": [
       "<matplotlib.figure.Figure at 0x1e2aac5f7b8>"
      ]
     },
     "metadata": {},
     "output_type": "display_data"
    },
    {
     "data": {
      "image/png": "[encoded data removed]",
      "text/plain": [
       "<matplotlib.figure.Figure at 0x1e2ae964f60>"
      ]
     },
     "metadata": {},
     "output_type": "display_data"
    }
   ],
   "source": [
    "# COMPLEMENTARY CUMULATIVE DISTRIBUTION FUNCTION - time between retransmissions\n",
    "# 1 plot for x files\n",
    "for f in glob.iglob('./*1018-*/*firstKPIs', recursive=True): # /*directoryRegExp*/ to reduce output (long runtime)\n",
    "    df = pd.read_csv(f, delim_whitespace=True, names = ['seconds_offset', 'cwin', 'bytes-in-flight', 'nb_ret', \n",
    "                                                        'rtt_min', 'current_rtt', 'send_time','reception_time', \n",
    "                                                        'current_ackdelay', 'srtt', 'rtt_var', 'max_ackdelay', 'state']) \n",
    "                                                        #extraction of KPI: update from 18.10.19\n",
    "    title=f\n",
    "    \n",
    "    #delete the normal (no-retransmission) packets\n",
    "    df.drop_duplicates(subset=\"nb_ret\", keep=\"first\", inplace=True)\n",
    "    df.drop(df.index[0], inplace=True)\n",
    "    df.state = df.state.apply(lambda x: x - 14)\n",
    "    \n",
    "    num_retrans = 'Retransmissions = '+ str(df.seconds_offset.count())\n",
    "    print(num_retrans, \"\\n\")\n",
    "    \n",
    "    #compute the time between retransmissions\n",
    "    i = 0;\n",
    "    timeBetween = [];\n",
    "    for j in df['seconds_offset']:\n",
    "        timeBetween.append(j-i)\n",
    "        i = j\n",
    "        \n",
    "    df['timeBetween'] = timeBetween\n",
    "    sortedRetrans = df['timeBetween'].sort_values()\n",
    "    #print(sortedRetrans)\n",
    "    #print(df.seconds_offset)\n",
    "    \n",
    "    #build the CDF\n",
    "    cum_dist = np.linspace(1.,0.,len(sortedRetrans))\n",
    "    cdf = pd.Series(cum_dist, index=sortedRetrans)\n",
    "    fig = plt.figure() #this line makes a plot for every file\n",
    "    fig = cdf.plot(color='r', linestyle=':', drawstyle='steps')\n",
    "    \n",
    "    fig.text(sortedRetrans.max()*0.75, 0.9, num_retrans, horizontalalignment='center', verticalalignment='center')\n",
    "\n",
    "    fig.set_xlabel('Time between retransmissions (s)')\n",
    "    plt.tight_layout()\n",
    "    plt.savefig(f+\"_ccdf_retransTimeBetween.pdf\")\n",
    "    \n",
    "    fig.set_yscale('log')\n",
    "    plt.savefig(f+\"_ccdf_retransTimeBetween_ylog.pdf\")\n",
    "    \n",
    "    axes = plt.gca() \n",
    "    axes.set_xlim([0,100])\n",
    "    fig.text(60, 0.9, num_retrans, horizontalalignment='center', verticalalignment='center')\n",
    "    plt.savefig(f+\"_ccdf_retransTimeBetween_yloglim.pdf\")"
   ]
  },
  {
   "cell_type": "code",
   "execution_count": 68,
   "metadata": {},
   "outputs": [
    {
     "name": "stdout",
     "output_type": "stream",
     "text": [
      ".\\20191023-1420_200ms-2hr\\firstKPIs\n",
      "107.75621652690606 107.80380418726153 107.75638001888139 0.0001634919753429222\n",
      "      seconds_offset  current_rtt  recept_send  deviation  current_ackdelay  \\\n",
      "5           0.814939      112.422      117.518      5.096             5.096   \n",
      "1005      211.328440       21.775       22.567      0.792             0.792   \n",
      "\n",
      "      max_ackdelay  \n",
      "5             5096  \n",
      "1005          5096  \n",
      "Differences = 2 \n",
      "\n",
      ".\\20191023-1635_200ms-2hr\\firstKPIs\n",
      "97.46397820655233 97.4510558856187 97.46434444752957 0.0003662409772348695\n",
      "      seconds_offset  current_rtt  recept_send  deviation  current_ackdelay  \\\n",
      "2187      437.116777       66.822       67.342      0.520             0.520   \n",
      "2188      437.316800       66.822       67.342      0.520             0.520   \n",
      "2189      437.516821       75.848       76.536      0.688             0.688   \n",
      "2837      567.131508      101.279      101.871      0.592             0.592   \n",
      "2841      567.931619       18.412       18.948      0.536             0.536   \n",
      "2842      568.131647       18.412       18.948      0.536             0.536   \n",
      "2843      568.331685       28.553       29.065      0.512             0.512   \n",
      "2846      568.931754       42.229       42.789      0.560             0.560   \n",
      "2847      569.131777       42.229       42.789      0.560             0.560   \n",
      "2848      569.331796       51.730       52.202      0.472             0.472   \n",
      "2851      569.931860       66.115       66.675      0.560             0.560   \n",
      "2852      570.131881       66.115       66.675      0.560             0.560   \n",
      "2853      570.331912       75.689       76.177      0.488             0.488   \n",
      "2856      570.931973       90.552       91.136      0.584             0.584   \n",
      "2857      571.131995       90.552       91.136      0.584             0.584   \n",
      "2858      571.332015       99.512      100.120      0.608             0.608   \n",
      "2862      572.132127       16.229       16.741      0.512             0.512   \n",
      "3338      667.367566      116.025      116.673      0.648             0.648   \n",
      "3360      671.768062       16.623       17.175      0.552             0.552   \n",
      "3366      672.978460       34.740       35.596      0.856             0.856   \n",
      "3367      673.178482       34.740       35.596      0.856             0.856   \n",
      "3368      673.378503       44.242       45.130      0.888             0.888   \n",
      "\n",
      "      max_ackdelay  \n",
      "2187           520  \n",
      "2188           520  \n",
      "2189           688  \n",
      "2837           688  \n",
      "2841           688  \n",
      "2842           688  \n",
      "2843           688  \n",
      "2846           688  \n",
      "2847           688  \n",
      "2848           688  \n",
      "2851           688  \n",
      "2852           688  \n",
      "2853           688  \n",
      "2856           688  \n",
      "2857           688  \n",
      "2858           688  \n",
      "2862           688  \n",
      "3338           688  \n",
      "3360           688  \n",
      "3366           856  \n",
      "3367           856  \n",
      "3368           888  \n",
      "Differences = 22 \n",
      "\n",
      ".\\20191023-1805_500ms-1hr\\firstKPIs\n",
      "163.3638104140702 163.57784185015902 163.36461141116203 0.0008009970918155383\n",
      "      seconds_offset  current_rtt  recept_send  deviation  current_ackdelay  \\\n",
      "967       482.671615       65.966       66.766      0.800             0.800   \n",
      "1054      526.173791       64.364       65.100      0.736             0.736   \n",
      "1324      661.197699        5.056        6.000      0.944             0.944   \n",
      "1443      720.700717       99.502      100.142      0.640             0.640   \n",
      "2904     1451.274469       55.521       56.025      0.504             0.504   \n",
      "3618     1808.301013      102.243      102.563      0.320             0.320   \n",
      "3804     1901.305433       97.306       97.562      0.256             0.256   \n",
      "4444     2221.321436       65.662       65.998      0.336             0.336   \n",
      "4624     2311.325993       70.998       71.294      0.296             0.296   \n",
      "4778     2388.329775       76.531       76.875      0.344             0.344   \n",
      "5661     2829.854579      100.776      101.136      0.360             0.360   \n",
      "6043     3020.863904       69.769       70.017      0.248             0.248   \n",
      "\n",
      "      max_ackdelay  \n",
      "967            800  \n",
      "1054           800  \n",
      "1324           944  \n",
      "1443           944  \n",
      "2904           944  \n",
      "3618           944  \n",
      "3804           944  \n",
      "4444           944  \n",
      "4624           944  \n",
      "4778           944  \n",
      "5661           944  \n",
      "6043           944  \n",
      "Differences = 12 \n",
      "\n",
      ".\\20191023-1950_500ms-1hr\\firstKPIs\n",
      "162.48929047024538 162.58436149257844 162.48947135525023 0.00018088500485504227\n",
      "      seconds_offset  current_rtt  recept_send  deviation  current_ackdelay  \\\n",
      "2578     1288.218648      110.407      110.887      0.480             0.480   \n",
      "3155     1576.744563       27.975       28.327      0.352             0.352   \n",
      "3922     1960.271597       95.718       96.070      0.352             0.352   \n",
      "4383     2190.782719       89.785       89.905      0.120             0.120   \n",
      "\n",
      "      max_ackdelay  \n",
      "2578           480  \n",
      "3155           480  \n",
      "3922           480  \n",
      "4383           480  \n",
      "Differences = 4 \n",
      "\n",
      ".\\20191023-2106_500ms-1hr\\firstKPIs\n",
      "162.13399521626562 164.3587099860464 162.13439067171709 0.0003954554514650189\n",
      "      seconds_offset  current_rtt  recept_send  deviation  current_ackdelay  \\\n",
      "907       452.696351       33.645       34.493      0.848             0.848   \n",
      "1605      801.713531      102.962      103.642      0.680             0.680   \n",
      "1756      877.217284       68.512       68.968      0.456             0.456   \n",
      "\n",
      "      max_ackdelay  \n",
      "907            848  \n",
      "1605           848  \n",
      "1756           848  \n",
      "Differences = 3 \n",
      "\n"
     ]
    },
    {
     "data": {
      "image/png": "[encoded data removed]",
      "text/plain": [
       "<matplotlib.figure.Figure at 0x1873b0694e0>"
      ]
     },
     "metadata": {},
     "output_type": "display_data"
    },
    {
     "data": {
      "image/png": "[encoded data removed]",
      "text/plain": [
       "<matplotlib.figure.Figure at 0x1873b515128>"
      ]
     },
     "metadata": {},
     "output_type": "display_data"
    },
    {
     "data": {
      "image/png": "[encoded data removed]",
      "text/plain": [
       "<matplotlib.figure.Figure at 0x1873b292eb8>"
      ]
     },
     "metadata": {},
     "output_type": "display_data"
    },
    {
     "data": {
      "image/png": "[encoded data removed]",
      "text/plain": [
       "<matplotlib.figure.Figure at 0x1873d456ac8>"
      ]
     },
     "metadata": {},
     "output_type": "display_data"
    },
    {
     "data": {
      "image/png": "[encoded data removed]",
      "text/plain": [
       "<matplotlib.figure.Figure at 0x1873b7186d8>"
      ]
     },
     "metadata": {},
     "output_type": "display_data"
    }
   ],
   "source": [
    "#SCATTERPLOT - rtt values over time\n",
    "#COMPARISON to TIMING VALUES\n",
    "for f in glob.iglob('./*1023-*/*firstKPIs', recursive=True): # /*directoryRegExp*/ to reduce output (long runtime)\n",
    "    df = pd.read_csv(f, delim_whitespace=True, names = ['seconds_offset', 'cwin', 'bytes-in-flight', 'nb_ret', \n",
    "                                                        'rtt_min', 'current_rtt', 'send_time','reception_time', \n",
    "                                                        'current_ackdelay', 'srtt', 'rtt_var', 'max_ackdelay', 'state']) \n",
    "                                                        #extraction of KPI: update from 18.10.19\n",
    "    #calculate the comparison value\n",
    "    df['recept_send'] = df.reception_time - df.send_time\n",
    "    df['deviation'] = df.recept_send - df.current_rtt\n",
    "    df = df[df.state == 15] #only values after successful start are comparable (earlier, there is no send or reception time set)\n",
    "    \n",
    "    df.current_rtt = df.current_rtt.apply(lambda x: x / 1000) #from us to ms\n",
    "    df.srtt = df.srtt.apply(lambda x: x / 1000)\n",
    "    df.rtt_min = df.rtt_min.apply(lambda x: x / 1000)\n",
    "    df.recept_send = df.recept_send.apply(lambda x: x / 1000)\n",
    "    df.deviation = df.deviation.apply(lambda x: x / 1000)\n",
    "    df.current_ackdelay = df.current_ackdelay.apply(lambda x: x / 1000)\n",
    "    df.max_ackdelay = df.max_ackdelay.apply(lambda x: x / 1000)\n",
    "    \n",
    "    title=f\n",
    "    print(f)\n",
    "    \n",
    "    print(df.current_rtt.mean(),\n",
    "          df.srtt.mean(),\n",
    "         df.recept_send.mean(),\n",
    "         df.deviation.mean())\n",
    "    \n",
    "    standard = 0; #1 = standard plot over time\n",
    "                  #0 = deviation plotted over time\n",
    "    \n",
    "    if(standard):\n",
    "        fig = df.plot(x=\"seconds_offset\", y=\"rtt_min\", kind='scatter', color=\"DarkBlue\", s=0.01)\n",
    "        x = df.seconds_offset\n",
    "        y1 = df.current_rtt\n",
    "        fig.plot(x,y1,'r:') # more examples = 'b:' 'k:' 'r--'\n",
    "        y2 = df.recept_send\n",
    "        fig.plot(x,y2, 'y:')\n",
    "\n",
    "        axes = plt.gca()\n",
    "        fig.legend(['Current RTT', 'recept minus send', 'min RTT'])\n",
    "        fig.set_xlabel('Runtime (seconds)')\n",
    "        lines = fig.set_ylabel('Time (ms)')\n",
    "        plt.tight_layout()\n",
    "        plt.savefig(f+\"_timing-comparison.pdf\")\n",
    "    \n",
    "    #Plotting only deviation values\n",
    "    else:\n",
    "        df['deviation'] = df['deviation'].replace(0.0, np.nan) #set all 0.0 to NaN -> not plotted\n",
    "        df.dropna(inplace=True)\n",
    "        print(df[['seconds_offset', 'current_rtt', 'recept_send', 'deviation', 'current_ackdelay', 'max_ackdelay']])\n",
    "        fig = df.plot(x=\"seconds_offset\", y=\"deviation\", kind='scatter', color=\"DarkBlue\", s=0.01)\n",
    "        x = df.seconds_offset\n",
    "        \n",
    "        num_deviations = 'Differences = ' + str(df.deviation.count())\n",
    "        print(num_deviations, \"\\n\")\n",
    "        #fig.text(df.seconds_offset.max()*0.9, df.deviation.max()*0.9, num_deviations, horizontalalignment='center', verticalalignment='center')\n",
    "\n",
    "        axes = plt.gca()\n",
    "        fig.legend(['Deviation'])\n",
    "        fig.set_xlabel('Runtime (seconds) /' + num_deviations)\n",
    "        lines = fig.set_ylabel('Time (ms)')\n",
    "        plt.tight_layout()\n",
    "        plt.savefig(f+\"_timing-deviation_cleaned.pdf\")"
   ]
  },
  {
   "cell_type": "code",
   "execution_count": null,
   "metadata": {
    "collapsed": true
   },
   "outputs": [],
   "source": []
  }
 ],
 "metadata": {
  "kernelspec": {
   "display_name": "Python 3",
   "language": "python",
   "name": "python3"
  },
  "language_info": {
   "codemirror_mode": {
    "name": "ipython",
    "version": 3
   },
   "file_extension": ".py",
   "mimetype": "text/x-python",
   "name": "python",
   "nbconvert_exporter": "python",
   "pygments_lexer": "ipython3",
   "version": "3.6.1"
  }
 },
 "nbformat": 4,
 "nbformat_minor": 2
}
