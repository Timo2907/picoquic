{
 "cells": [
  {
   "cell_type": "code",
   "execution_count": 1,
   "metadata": {
    "collapsed": true
   },
   "outputs": [],
   "source": [
    "%matplotlib inline\n",
    "import matplotlib.pyplot as plt\n",
    "import numpy as np\n",
    "import pandas as pd\n",
    "import seaborn as sns\n",
    "import matplotlib\n",
    "import glob\n",
    "from math import sqrt\n",
    "from pprint import pprint\n",
    "from time import gmtime, strftime\n",
    "SPINE_COLOR = 'gray'\n",
    "sns.set(style=\"whitegrid\") # or \"darkgrid\""
   ]
  },
  {
   "cell_type": "code",
   "execution_count": 2,
   "metadata": {
    "collapsed": true
   },
   "outputs": [],
   "source": [
    "def latexify(fig_width=None, fig_height=None, columns=1):\n",
    "    \"\"\"Set up matplotlib's RC params for LaTeX plotting.\n",
    "    Call this before plotting a figure.\n",
    "\n",
    "    Parameters\n",
    "    ----------\n",
    "    fig_width : float, optional, inches\n",
    "    fig_height : float,  optional, inches\n",
    "    columns : {1, 2}\n",
    "    \"\"\"\n",
    "\n",
    "    # code adapted from http://www.scipy.org/Cookbook/Matplotlib/LaTeX_Examples\n",
    "\n",
    "    # Width and max height in inches for IEEE journals taken from\n",
    "    # computer.org/cms/Computer.org/Journal%20templates/transactions_art_guide.pdf\n",
    "\n",
    "    assert(columns in [1,2])\n",
    "\n",
    "    if fig_width is None:\n",
    "        fig_width = 3.39 if columns==1 else 6.9 # width in inches\n",
    "\n",
    "    if fig_height is None:\n",
    "        golden_mean = (sqrt(5)-1.0)/2.0    # Aesthetic ratio\n",
    "        fig_height = fig_width*golden_mean # height in inches\n",
    "\n",
    "    MAX_HEIGHT_INCHES = 8.0\n",
    "    if fig_height > MAX_HEIGHT_INCHES:\n",
    "        print(\"WARNING: fig_height too large:\" + fig_height + \n",
    "              \"so will reduce to\" + MAX_HEIGHT_INCHES + \"inches.\")\n",
    "        fig_height = MAX_HEIGHT_INCHES\n",
    "\n",
    "    params = {'backend': 'pdf',\n",
    "              'text.latex.preamble': ['\\\\usepackage{gensymb}'],\n",
    "              'axes.labelsize': 8, # fontsize for x and y labels (was 10)\n",
    "              'axes.titlesize': 8,\n",
    "              'font.size': 8,       #'text.fontsize': 8, # was 10\n",
    "              'legend.fontsize': 6.5, # was 10\n",
    "              'xtick.labelsize': 8,\n",
    "              'ytick.labelsize': 8,\n",
    "              'lines.linewidth' : 0.4,\n",
    "              'lines.markersize' : 0.4,\n",
    "              'text.usetex': True,\n",
    "              'figure.figsize': [fig_width,fig_height],\n",
    "              'font.family': 'serif'\n",
    "    }\n",
    "\n",
    "    matplotlib.rcParams.update(params)\n",
    "\n",
    "\n",
    "def format_axes(ax):\n",
    "\n",
    "    for spine in ['top', 'right']:\n",
    "        ax.spines[spine].set_visible(False)\n",
    "\n",
    "    for spine in ['left', 'bottom']:\n",
    "        ax.spines[spine].set_color(SPINE_COLOR)\n",
    "        ax.spines[spine].set_linewidth(0.5)\n",
    "\n",
    "    ax.xaxis.set_ticks_position('bottom')\n",
    "    ax.yaxis.set_ticks_position('left')\n",
    "\n",
    "    for axis in [ax.xaxis, ax.yaxis]:\n",
    "        axis.set_tick_params(direction='out', color=SPINE_COLOR)\n",
    "\n",
    "    return ax\n",
    "\n",
    "linewidth=497\n",
    "DPI=96\n",
    "#latexify(fig_width=linewidth/DPI, fig_height=int(linewidth/2.3/DPI))\n",
    "latexify(fig_width=linewidth/DPI/1.7, fig_height=int(linewidth/2.3/DPI))"
   ]
  },
  {
   "cell_type": "code",
   "execution_count": null,
   "metadata": {
    "collapsed": true,
    "scrolled": false
   },
   "outputs": [],
   "source": [
    "#CCDFs\n",
    "# one-way delay (application layer)\n",
    "experimentsC=[]\n",
    "mqs='mqs-4'\n",
    "for f in glob.iglob('./crosstraffic_'+mqs+'/*201912*/', recursive=True): # /*directoryRegExp*/ to reduce output (long runtime)\n",
    "    dfapp = pd.read_csv(f+'serverAppOutput', delim_whitespace=True ,names = \n",
    "                                    ['seconds_offset', 'streamid', 'length', 'msg_number', 'onewaydelay'])\n",
    "    dfstream = pd.read_csv(f+'serverStreamOutput', delim_whitespace=True ,names = \n",
    "                                    ['seconds_offset', 'streamid', 'byte_offset', 'length', 'msg_number', 'onewaydelay'])\n",
    "\n",
    "    title=f\n",
    "    del dfapp['length']\n",
    "    print(f)\n",
    "    \n",
    "    dfapp.onewaydelay = dfapp.onewaydelay.apply(lambda x: x / 1000) # from us to ms\n",
    "\n",
    "    sortedOneWayDelay = dfapp['onewaydelay'].sort_values()\n",
    "    #print(sortedOneWayDelay.size)\n",
    "    \n",
    "    outdated = pd.Series();\n",
    "    inTime = pd.Series();\n",
    "    for i, value in enumerate(dfapp.onewaydelay):\n",
    "        if(value>100):\n",
    "            outdated = outdated.set_value(i, value)\n",
    "        else:\n",
    "            inTime = inTime.set_value(i, value)\n",
    "            \n",
    "    if(outdated.size == 0):\n",
    "        outdatedsize=0; \n",
    "        outdatedmin=0;\n",
    "        outdatedmean=0;\n",
    "        outdatedmax=0;\n",
    "    else:\n",
    "        outdatedsize= outdated.size;\n",
    "        outdatedmin=outdated.min();\n",
    "        outdatedmean=outdated.mean();\n",
    "        outdatedmax=outdated.max();\n",
    "        \n",
    "#     print('Outdated:', outdatedsize, 'min:', outdatedmin, 'mean:', outdatedmean, \n",
    "#             'median:', outdated.median(), 'max:', outdatedmax, ' (all delays in ms)')\n",
    "#     print('MsgsInTime:', inTime.size, 'min:', inTime.min(), 'mean:', inTime.mean(), \n",
    "#             'median:', inTime.median(), 'max:', inTime.max(), ' (all delays in ms)\\n')\n",
    "    \n",
    "    \n",
    "#     #build the CDF\n",
    "#     cum_dist = np.linspace(1.,0.,len(sortedOneWayDelay))\n",
    "#     cdf = pd.Series(cum_dist, index=sortedOneWayDelay)\n",
    "#     fig = plt.figure() #this line makes a plot for every file\n",
    "#     fig = cdf.plot(color='r', linestyle=':', drawstyle='steps')\n",
    "    \n",
    "#     #fig.text(sortedRetrans.max()*0.75, 0.9, num_retrans, horizontalalignment='center', verticalalignment='center')\n",
    "\n",
    "#     fig.set_xlabel('Delay of packets (ms)')\n",
    "#     fig.set_yscale('log')\n",
    "#     plt.tight_layout()\n",
    "#     plt.savefig(f+\"ccdf_one-way-delay_app.pdf\")\n",
    "    \n",
    "    experimentName=f[f.find('2019'):]\n",
    "    #print(experimentName)\n",
    "    experimentsC.append([experimentName, sortedOneWayDelay.size, inTime.size, inTime.min(), inTime.mean(), inTime.max(), outdatedsize, outdatedmin, outdatedmean, outdatedmax])\n",
    "\n",
    "#pprint(experimentsC)\n",
    "\n",
    "# cut out ephemeral version name from experiment name\n",
    "for i in experimentsC:\n",
    "    if 'non' in i[0][i[0].rfind('crosstraffic')+13:i[0].rfind('ephemeral')+9]:\n",
    "         i[0] = 'N'\n",
    "    if 'light' in i[0][i[0].rfind('crosstraffic')+13:i[0].rfind('ephemeral')+9]:\n",
    "         i[0] = 'L'\n",
    "    if 'full' in i[0][i[0].rfind('crosstraffic')+13:i[0].rfind('ephemeral')+9]:\n",
    "         i[0] = 'F'\n",
    "    #i[0] = i[0][i[0].rfind('crosstraffic')+13:i[0].rfind('ephemeral')+9]\n",
    "\n",
    "dfAll = pd.DataFrame()\n",
    "dfAll['Version'] = pd.Series(i[0] for i in experimentsC)\n",
    "dfAll['received'] = pd.Series(i[1] for i in experimentsC)\n",
    "dfAll['inTime'] = pd.Series(i[2] for i in experimentsC)\n",
    "dfAll['inTime_min'] = pd.Series(i[3] for i in experimentsC)\n",
    "dfAll['inTime_mean'] = pd.Series(i[4] for i in experimentsC)\n",
    "dfAll['inTime_max'] = pd.Series(i[5] for i in experimentsC)\n",
    "dfAll['outdated'] = pd.Series(i[6] for i in experimentsC)\n",
    "dfAll['outdated_min'] = pd.Series(i[7] for i in experimentsC)\n",
    "dfAll['outdated_mean'] = pd.Series(i[8] for i in experimentsC)\n",
    "dfAll['outdated_max'] = pd.Series(i[9] for i in experimentsC)\n",
    "dfAll.sort_values(by=['Version'], ascending=False, inplace=True)\n",
    "\n",
    "#print(dfAll)\n",
    "\n",
    "fig, (ax1, ax2) = plt.subplots(1, 2) #two plots in one figure\n",
    "#fig.suptitle('Maximum Queue Size: '+ mqs[-1:]) #title = maximum queue size\n",
    "\n",
    "#messages received in time\n",
    "sns.boxplot(x='Version', y='inTime', data=dfAll, fliersize=0.0, ax=ax1)\n",
    "ax1.set_ylabel('In-Time Messages')\n",
    "\n",
    "#outdated messages received\n",
    "sns.boxplot(x='Version', y='outdated', data=dfAll, fliersize=0.0, ax=ax2)\n",
    "ax2.yaxis.tick_right()\n",
    "ax2.yaxis.set_label_position(\"right\")\n",
    "\n",
    "ax2.set_ylabel('Outdated Messages')\n",
    "\n",
    "plt.tight_layout()\n",
    "plt.savefig(f+mqs+\"_crosstraffic_inTime+outdated.pdf\")\n"
   ]
  },
  {
   "cell_type": "code",
   "execution_count": null,
   "metadata": {
    "collapsed": true,
    "scrolled": false
   },
   "outputs": [],
   "source": []
  },
  {
   "cell_type": "code",
   "execution_count": null,
   "metadata": {
    "scrolled": false
   },
   "outputs": [],
   "source": [
    "# HOLES: APP LEVEL\n",
    "# msgs consecutively lost (holes)\n",
    "experiments = []\n",
    "model='ct-ge' #ge or random\n",
    "for f in glob.iglob('./'+model+'/*202001*/', recursive=True): # /*directoryRegExp*/ to reduce output (long runtime)\n",
    "    dfapp = pd.read_csv(f+'serverAppOutput', delim_whitespace=True ,names = \n",
    "                                        ['seconds_offset', 'streamid', 'length', 'msg_number', 'onewaydelay'])\n",
    "    dfstream = pd.read_csv(f+'serverStreamOutput', delim_whitespace=True ,names = \n",
    "                                        ['seconds_offset', 'streamid', 'byte_offset', 'length', 'msg_number', 'onewaydelay'])\n",
    "\n",
    "    title=f\n",
    "    print(f)\n",
    "    del dfstream['length']\n",
    "    dfstream.onewaydelay = dfstream.onewaydelay.apply(lambda x: x / 1000) # from us to ms\n",
    "    dfapp.onewaydelay = dfapp.onewaydelay.apply(lambda x: int(x) / 1000) # from us to ms\n",
    "    \n",
    "    holes = []\n",
    "    h=1;\n",
    "    case=''\n",
    "    for i, seconds in enumerate(dfapp.seconds_offset):\n",
    "        if (i+1 < dfapp.seconds_offset.size): #out of bounds check\n",
    "            t1 = seconds;\n",
    "            t2 = dfapp.seconds_offset[i+1]\n",
    "            n1 = dfapp.msg_number[i]\n",
    "            n2 = dfapp.msg_number[i+1]\n",
    "            if(t2 - t1 > 0.2): # hole detected by offset (but maybe msg before was also outdated!)\n",
    "                \n",
    "                if(dfapp.onewaydelay[i] < 100): # was msg[i] already outdated?\n",
    "                    # msg[i] not outdated\n",
    "                    \n",
    "                    if(dfapp.onewaydelay[i+1] > 100): #is msg[i+1] actually the end of the hole?\n",
    "                        k=2 #look forward until next \"msg-in-time\" was found\n",
    "                        while (dfapp.index[i+k] != None and dfapp.onewaydelay[i+k] > 100):\n",
    "                            k+=1\n",
    "                        if(dfapp.index[i+k]) != None:\n",
    "                            n2 = dfapp.msg_number[i+k]\n",
    "                            t2 = dfapp.seconds_offset[i+k]\n",
    "                            case = 'i to i+k'\n",
    "                    else:\n",
    "                        case = 'i to i+1'\n",
    "                        \n",
    "                else:\n",
    "                    # msg[i] is outdated\n",
    "                    \n",
    "                    j=1 # look back until last \"msg-in-time\" was found\n",
    "                    while (dfapp.onewaydelay[i-j] > 100):\n",
    "                        j+=1\n",
    "                    n1 = dfapp.msg_number[i-j] #update real beginning of hole\n",
    "                    t1 = dfapp.seconds_offset[i-j]\n",
    "                    \n",
    "                    if(dfapp.onewaydelay[i+1] > 100): #is it actually the end of the hole?\n",
    "                        k=2 #look forward until next \"msg-in-time\" was found\n",
    "                        while (dfapp.index[i+k] != None and dfapp.onewaydelay[i+k] > 100):\n",
    "                            k+=1\n",
    "                        if(dfapp.index[i+k]) != None:\n",
    "                            n2 = dfapp.msg_number[i+k]\n",
    "                            t2 = dfapp.seconds_offset[i+k]\n",
    "                            case = 'i-j to i+k'\n",
    "                        else:\n",
    "                            print('OUT OF BOUNDS')\n",
    "                    else: # it is already the end\n",
    "                        case = 'i-j to i+1'\n",
    "                        \n",
    "                holes.append([n1, n2, n2-n1, (t2-t1) * 1000, case]) # msg 1, msg 2, msg difference, time difference\n",
    "                #print(h, case, [n1, n2, n2-n1, str(round((t2-t1) * 1000, 2))])\n",
    "                #h+=1\n",
    "    \n",
    "    holeTimes = pd.Series(i[3] for i in holes)\n",
    "    holeMsgs = pd.Series(i[2] for i in holes)\n",
    "    \n",
    "#     print('Hole sizes (ms): occurrences=', holeTimes.size, 'min=', holeTimes.min(), 'mean=', round(holeTimes.mean(), 2), 'median=', round(holeTimes.median(), 2), \n",
    "#           'max=', holeTimes.max())\n",
    "#     print('Hole sizes (msgs): occurrences=', holeMsgs.size, 'min=', holeMsgs.min(), 'mean=', round(holeMsgs.mean(), 2), 'median=', round(holeMsgs.median(), 2), \n",
    "#           'max=', holeMsgs.max(), '\\n')\n",
    "    \n",
    "   \n",
    "    #set parameters and check if occurences = 0 -> mean, median, max also 0 then\n",
    "    \n",
    "    experimentName=f[f.find('2020'):]\n",
    "    #print(experimentName)\n",
    "    experiments.append([experimentName, holeTimes.size, round(holeTimes.mean(), 2), round(holeTimes.median(), 2), holeTimes.max()])\n",
    "    #experiments.append([experimentName, holeTimes.mean()])\n",
    "\n",
    "# build dataframes from values computed above\n",
    "#pprint(experiments)\n",
    "\n",
    "dfNE = pd.DataFrame()\n",
    "dfNE['lossrate'] = pd.Series(int(i[0][i[0].rfind('ss')+2:i[0].find('--')]) for i in experiments if ('non-ephemeral' in i[0]))\n",
    "dfNE['occurrences'] = pd.Series(i[1] for i in experiments if ('non-ephemeral' in i[0]))\n",
    "dfNE['mean'] = pd.Series(i[2] for i in experiments if ('non-ephemeral' in i[0]))\n",
    "dfNE['median'] = pd.Series(i[3] for i in experiments if ('non-ephemeral' in i[0]))\n",
    "dfNE['max'] = pd.Series(i[4] for i in experiments if ('non-ephemeral' in i[0]))\n",
    "\n",
    "dfLE = pd.DataFrame()\n",
    "dfLE['lossrate'] = pd.Series(int(i[0][i[0].rfind('ss')+2:i[0].find('--')]) for i in experiments if ('light-ephemeral' in i[0]))\n",
    "dfLE['occurrences'] = pd.Series(i[1] for i in experiments if ('light-ephemeral' in i[0]))\n",
    "dfLE['mean'] = pd.Series(i[2] for i in experiments if ('light-ephemeral' in i[0]))\n",
    "dfLE['median'] = pd.Series(i[3] for i in experiments if ('light-ephemeral' in i[0]))\n",
    "dfLE['max'] = pd.Series(i[4] for i in experiments if ('light-ephemeral' in i[0]))\n",
    "\n",
    "dfFE = pd.DataFrame()\n",
    "dfFE['lossrate'] = pd.Series(int(i[0][i[0].rfind('ss')+2:i[0].find('--')]) for i in experiments if ('full-ephemeral' in i[0]))\n",
    "dfFE['occurrences'] = pd.Series(i[1] for i in experiments if ('full-ephemeral' in i[0]))\n",
    "dfFE['mean'] = pd.Series(i[2] for i in experiments if ('full-ephemeral' in i[0]))\n",
    "dfFE['median'] = pd.Series(i[3] for i in experiments if ('full-ephemeral' in i[0]))\n",
    "dfFE['max'] = pd.Series(i[4] for i in experiments if ('full-ephemeral' in i[0]))\n",
    "\n",
    "\n",
    "#print(dfNE, '\\n', dfLE, '\\n', dfFE) \n",
    "\n",
    "\n",
    "# MEAN (in ms)\n",
    "fig = dfNE.plot(x=\"lossrate\", y=\"mean\", kind='scatter', color=\"DarkBlue\", s=5)\n",
    "x = dfNE.lossrate\n",
    "y = dfNE['mean']\n",
    "fig.plot(x, y, 'b', marker=\"o\", ms=2)\n",
    "x = dfLE.lossrate\n",
    "y1 = dfLE['mean']\n",
    "fig.plot(x, y1, 'y', marker=\"v\", ms=2)\n",
    "x = dfFE.lossrate\n",
    "y2 = dfFE['mean']\n",
    "fig.plot(x, y2, 'r', marker=\"D\", ms=2)\n",
    "\n",
    "fig.legend(['Non-Ephemeral', 'Light-Ephemeral', 'Full-Ephemeral'], loc=\"best\")\n",
    "\n",
    "plt.xticks(dfNE.lossrate.tolist())\n",
    "fig.set_xlabel('Loss Rate (\\%)')\n",
    "fig.set_ylabel('Mean size of\\ndata holes (ms)')\n",
    "plt.tight_layout()\n",
    "#plt.savefig(f+model+\"_dataholes_mean.pdf\")\n",
    "\n",
    "# MAX (in ms)\n",
    "fig = dfNE.plot(x=\"lossrate\", y=\"max\", kind='scatter', color=\"DarkBlue\", s=5)\n",
    "x = dfNE.lossrate\n",
    "y = dfNE['max']\n",
    "fig.plot(x, y, 'b', marker=\"o\", ms=2)\n",
    "x = dfLE.lossrate\n",
    "y1 = dfLE['max']\n",
    "fig.plot(x, y1, 'y', marker=\"v\", ms=2)\n",
    "x = dfFE.lossrate\n",
    "y2 = dfFE['max']\n",
    "fig.plot(x, y2, 'r', marker=\"D\", ms=2)\n",
    "\n",
    "fig.legend(['Non-Ephemeral', 'Light-Ephemeral', 'Full-Ephemeral'], loc=\"best\")\n",
    "\n",
    "plt.xticks(dfNE.lossrate.tolist())\n",
    "fig.set_xlabel('Loss Rate (\\%)')\n",
    "fig.set_ylabel('Maximum size of\\ndata holes (ms)')\n",
    "plt.tight_layout()\n",
    "#plt.savefig(f+model+\"_dataholes_max.pdf\")\n",
    "\n",
    "\n",
    "# OCCURRENCES (in number of holes)\n",
    "fig = dfNE.plot(x=\"lossrate\", y=\"occurrences\", kind='scatter', color=\"DarkBlue\", s=5)\n",
    "x = dfNE.lossrate\n",
    "y = dfNE['occurrences']\n",
    "fig.plot(x, y, 'b', marker=\"o\", ms=2)\n",
    "x = dfLE.lossrate\n",
    "y1 = dfLE['occurrences']\n",
    "fig.plot(x, y1, 'y', marker=\"v\", ms=2)\n",
    "x = dfFE.lossrate\n",
    "y2 = dfFE['occurrences']\n",
    "fig.plot(x, y2, 'r', marker=\"D\", ms=2)\n",
    "\n",
    "fig.legend(['Non-Ephemeral', 'Light-Ephemeral', 'Full-Ephemeral'], loc=\"best\") #bbox_to_anchor=(1,1)\n",
    "\n",
    "plt.xticks(dfNE.lossrate.tolist())\n",
    "fig.set_xlabel('Loss Rate (\\%)')\n",
    "fig.set_ylabel('Occurence of\\ndata holes')\n",
    "\n",
    "plt.tight_layout()\n",
    "#plt.savefig(f+model+\"_dataholes_occurences.pdf\")\n"
   ]
  },
  {
   "cell_type": "code",
   "execution_count": null,
   "metadata": {},
   "outputs": [],
   "source": [
    "dfNE['Version'] = 'N'\n",
    "dfLE['Version'] = 'L'\n",
    "dfFE['Version'] = 'F'\n",
    "dfAll = pd.concat([dfNE, dfLE, dfFE])\n",
    "dfAll = dfAll[dfAll['lossrate']!=1]\n",
    "#print(dfAll)\n",
    "\n",
    "print('MAX:')\n",
    "print('N', dfAll[dfAll['Version']=='N'].groupby('lossrate').max())\n",
    "print('L', dfAll[dfAll['Version']=='L'].groupby('lossrate').max())\n",
    "print('F', dfAll[dfAll['Version']=='F'].groupby('lossrate').max())\n",
    "print('MIN:')\n",
    "print('N', dfAll[dfAll['Version']=='N'].groupby('lossrate').min())\n",
    "print('L', dfAll[dfAll['Version']=='L'].groupby('lossrate').min())\n",
    "print('F', dfAll[dfAll['Version']=='F'].groupby('lossrate').min())\n",
    "\n",
    "plt.figure()\n",
    "fig = sns.boxplot(x='lossrate', y='mean', hue='Version', data=dfAll, fliersize=0.0)\n",
    "\n",
    "plt.title('')\n",
    "plt.suptitle('')\n",
    "\n",
    "fig.set_xlabel('Loss Rate (\\%)')\n",
    "fig.set_ylabel('Mean Size\\nof Data Holes (ms)')\n",
    "plt.tight_layout()\n",
    "plt.savefig(f+model+\"_mean-dataholes_boxplot.pdf\")\n",
    "\n",
    "\n",
    "plt.figure()\n",
    "fig = sns.boxplot(x='lossrate', y='max', hue='Version', data=dfAll, fliersize=0.0)\n",
    "\n",
    "\n",
    "plt.title('')\n",
    "plt.suptitle('')\n",
    "\n",
    "fig.set_xlabel('Loss Rate (\\%)')\n",
    "fig.set_ylabel('Maximum Size\\nof Data Holes (ms)')\n",
    "plt.tight_layout()\n",
    "plt.savefig(f+model+\"_max-dataholes_boxplot.pdf\")"
   ]
  },
  {
   "cell_type": "code",
   "execution_count": null,
   "metadata": {
    "scrolled": false
   },
   "outputs": [],
   "source": [
    "#Client message retries\n",
    "experiments2 = []\n",
    "model='ct-ge' #ge or random\n",
    "for f in glob.iglob('./'+model+'/*202001*/', recursive=True): # /*directoryRegExp*/ to reduce output (long runtime)\n",
    "    dfapp = pd.read_csv(f+'serverAppOutput', delim_whitespace=True ,names = \n",
    "                                        ['seconds_offset', 'streamid', 'length', 'msg_number', 'onewaydelay'])\n",
    "    dfstream = pd.read_csv(f+'serverStreamOutput', delim_whitespace=True ,names = \n",
    "                                        ['seconds_offset', 'streamid', 'byte_offset', 'length', 'msg_number', 'onewaydelay'])\n",
    "    dfclient = pd.read_csv(f+'clientStreamOutput', delim_whitespace=True ,names = \n",
    "                                        ['seconds_offset', 'streamid', 'msg_number'])\n",
    "    title=f\n",
    "    print(f)\n",
    "    \n",
    "    dfapp.onewaydelay = dfapp.onewaydelay.apply(lambda x: x / 1000) # from us to ms\n",
    "    dfstream.onewaydelay = dfstream.onewaydelay.apply(lambda x: x / 1000) # from us to ms\n",
    "    dfclient['duplicate'] = dfclient.msg_number.duplicated()\n",
    "    \n",
    "    retryList = [];\n",
    "    retryWithoutDuplicates = [];\n",
    "    for i, value in enumerate(dfclient.duplicate):\n",
    "        if(value):\n",
    "            retryList.append(dfclient.msg_number[i])\n",
    "            if(dfclient.msg_number[i] not in retryWithoutDuplicates):\n",
    "                retryWithoutDuplicates.append(dfclient.msg_number[i])\n",
    "    \n",
    "    retriesPerMsg = [];\n",
    "    for msgID in retryList:\n",
    "        if(msgID not in retriesPerMsg):\n",
    "            retriesPerMsg.append(retryList.count(msgID))\n",
    "    \n",
    "    retries = pd.Series(retriesPerMsg)\n",
    "    \n",
    "    #look if the retransmit messages have arrived\n",
    "    arrivedRetransmits = [];\n",
    "\n",
    "    for msg in retryWithoutDuplicates:\n",
    "        if dfstream.msg_number[dfstream.msg_number == msg].size > 0:\n",
    "            arrivedRetransmits.append(msg)\n",
    "    \n",
    "    #look if the arrived retransmits have arrived in time\n",
    "    retransInTime = [];\n",
    "    for msgnumber in arrivedRetransmits:\n",
    "        if dfstream.msg_number[dfstream.msg_number == msgnumber].size > 0:\n",
    "            index = dfstream.msg_number[dfstream.msg_number == msgnumber].index[0]\n",
    "            if dfstream.onewaydelay[index] < 100: #maybe with app value?\n",
    "                retransInTime.append([dfstream.msg_number[index], dfstream.onewaydelay[index]])\n",
    "                \n",
    "                \n",
    "    outdated = pd.Series();\n",
    "    inTime = pd.Series();\n",
    "    for i, value in enumerate(dfapp.onewaydelay):\n",
    "        if(value>100):\n",
    "            outdated = outdated.set_value(i, value)\n",
    "        else:\n",
    "            inTime = inTime.set_value(i, value)\n",
    "\n",
    "            \n",
    "    received = dfapp.onewaydelay.size\n",
    "    \n",
    "            \n",
    "    if(outdated.size==0): \n",
    "        outdatedsize=0;\n",
    "        outdatedmean=0;\n",
    "        outdatedmax=0;\n",
    "    else:\n",
    "        outdatedsize=outdated.size;\n",
    "        outdatedmean=outdated.mean();\n",
    "        outdatedmax=outdated.max();\n",
    "        \n",
    "    #print('Messages received:', dfapp.onewaydelay.size)\n",
    "    #print('Outdated:', outdated.size, 'min:', outdated.min(), 'mean:', outdated.mean(), \n",
    "    #        'median:', outdated.median(), 'max:', outdated.max(), ' (all delays in ms)')\n",
    "    #print('MsgsInTime:', inTime.size, 'min:', inTime.min(), 'mean:', inTime.mean(), \n",
    "    #        'median:', inTime.median(), 'max:', inTime.max(), ' (all delays in ms)')\n",
    "    #print('Retransmissions by client:', len(retryList), 'for', len(retryWithoutDuplicates), 'different messages with', len(arrivedRetransmits),'(', round(len(arrivedRetransmits)/len(retryWithoutDuplicates)*100,2) , '%) of them arrived')\n",
    "    #print('retries in time:', len(retransInTime), '(', round(len(retransInTime)/len(retryWithoutDuplicates) * 100, 2) ,'%)', 'not in time', len(arrivedRetransmits)-len(retransInTime))\n",
    "    #print('mean tries per msg:', round(retries.mean(), 2), 'max tries per msg:', retries.max())\n",
    "    \n",
    "    if len(retryWithoutDuplicates) != 0:\n",
    "        retransInTimePercent = round(len(retransInTime)/len(retryWithoutDuplicates) * 100, 2)\n",
    "    else:\n",
    "        retransInTimePercent = float('NaN')\n",
    "    \n",
    "    experimentName=f[16:]\n",
    "    experiments2.append([experimentName, dfapp.onewaydelay.size, inTime.size, outdatedsize, outdatedmean, outdatedmax, \n",
    "                         len(retryList), len(retryWithoutDuplicates), len(arrivedRetransmits), len(retransInTime), retransInTimePercent, len(arrivedRetransmits)-len(retransInTime), dfclient.seconds_offset.size, dfstream.seconds_offset.size, round(inTime.size/dfclient.seconds_offset.size *100, 2)])\n",
    "\n",
    "# build dataframes from values computed above\n",
    "#pprint(experiments2)\n",
    "\n",
    "dfNE = pd.DataFrame()\n",
    "dfNE['lossrate'] = pd.Series(int(i[0][i[0].rfind('ss')+2:i[0].find('--')]) for i in experiments2 if ('non-ephemeral' in i[0]))\n",
    "#dfNE['received'] = pd.Series(i[1] for i in experiments2 if ('non-ephemeral' in i[0]))\n",
    "dfNE['inTime'] = pd.Series(i[2] for i in experiments2 if ('non-ephemeral' in i[0]))\n",
    "dfNE['outdated'] = pd.Series(i[3] for i in experiments2 if ('non-ephemeral' in i[0]))\n",
    "dfNE['outdated_mean'] = pd.Series(i[4] for i in experiments2 if ('non-ephemeral' in i[0]))\n",
    "dfNE['outdated_max'] = pd.Series(i[5] for i in experiments2 if ('non-ephemeral' in i[0]))\n",
    "dfNE['retransmissions'] = pd.Series(i[6] for i in experiments2 if ('non-ephemeral' in i[0]))\n",
    "dfNE['retrans_wo_dup'] = pd.Series(i[7] for i in experiments2 if ('non-ephemeral' in i[0]))\n",
    "dfNE['retrans_arrived'] = pd.Series(i[8] for i in experiments2 if ('non-ephemeral' in i[0]))\n",
    "#dfNE['retrans_inTime'] = pd.Series(i[9] for i in experiments2 if ('non-ephemeral' in i[0]))\n",
    "dfNE['retrans_inTime_percent'] = pd.Series(i[10] for i in experiments2 if ('non-ephemeral' in i[0]))\n",
    "#dfNE['retrans_not_inTime'] = pd.Series(i[11] for i in experiments2 if ('non-ephemeral' in i[0]))\n",
    "dfNE['sentByClient'] = pd.Series(i[12] for i in experiments2 if ('non-ephemeral' in i[0]))\n",
    "#dfNE['receivedOnStreamByServer'] = pd.Series(i[13] for i in experiments2 if ('non-ephemeral' in i[0]))\n",
    "dfNE['good_receive_rate'] = pd.Series(i[14] for i in experiments2 if ('non-ephemeral' in i[0]))\n",
    "\n",
    "dfLE = pd.DataFrame()\n",
    "dfLE['lossrate'] = pd.Series(int(i[0][i[0].rfind('ss')+2:i[0].find('--')]) for i in experiments2 if ('light-ephemeral' in i[0]))\n",
    "#dfLE['received'] = pd.Series(i[1] for i in experiments2 if ('light-ephemeral' in i[0]))\n",
    "dfLE['inTime'] = pd.Series(i[2] for i in experiments2 if ('light-ephemeral' in i[0]))\n",
    "dfLE['outdated'] = pd.Series(i[3] for i in experiments2 if ('light-ephemeral' in i[0]))\n",
    "dfLE['outdated_mean'] = pd.Series(i[4] for i in experiments2 if ('light-ephemeral' in i[0]))\n",
    "dfLE['outdated_max'] = pd.Series(i[5] for i in experiments2 if ('light-ephemeral' in i[0]))\n",
    "dfLE['retransmissions'] = pd.Series(i[6] for i in experiments2 if ('light-ephemeral' in i[0]))\n",
    "dfLE['retrans_wo_dup'] = pd.Series(i[7] for i in experiments2 if ('light-ephemeral' in i[0]))\n",
    "dfLE['retrans_arrived'] = pd.Series(i[8] for i in experiments2 if ('light-ephemeral' in i[0]))\n",
    "#dfLE['retrans_inTime'] = pd.Series(i[9] for i in experiments2 if ('light-ephemeral' in i[0]))\n",
    "dfLE['retrans_inTime_percent'] = pd.Series(i[10] for i in experiments2 if ('light-ephemeral' in i[0]))\n",
    "#dfLE['retrans_not_inTime'] = pd.Series(i[11] for i in experiments2 if ('light-ephemeral' in i[0]))\n",
    "dfLE['sentByClient'] = pd.Series(i[12] for i in experiments2 if ('light-ephemeral' in i[0]))\n",
    "#dfLE['receivedOnStreamByServer'] = pd.Series(i[13] for i in experiments2 if ('light-ephemeral' in i[0]))\n",
    "dfLE['good_receive_rate'] = pd.Series(i[14] for i in experiments2 if ('light-ephemeral' in i[0]))\n",
    "\n",
    "dfFE = pd.DataFrame()\n",
    "dfFE['lossrate'] = pd.Series(int(i[0][i[0].rfind('ss')+2:i[0].find('--')]) for i in experiments2 if ('full-ephemeral' in i[0]))\n",
    "#dfFE['received'] = pd.Series(i[1] for i in experiments2 if ('full-ephemeral' in i[0]))\n",
    "dfFE['inTime'] = pd.Series(i[2] for i in experiments2 if ('full-ephemeral' in i[0]))\n",
    "dfFE['outdated'] = pd.Series(i[3] for i in experiments2 if ('full-ephemeral' in i[0]))\n",
    "dfFE['outdated_mean'] = pd.Series(i[4] for i in experiments2 if ('full-ephemeral' in i[0]))\n",
    "dfFE['outdated_max'] = pd.Series(i[5] for i in experiments2 if ('full-ephemeral' in i[0]))\n",
    "dfFE['retransmissions'] = pd.Series(i[6] for i in experiments2 if ('full-ephemeral' in i[0]))\n",
    "dfFE['retrans_wo_dup'] = pd.Series(i[7] for i in experiments2 if ('full-ephemeral' in i[0]))\n",
    "dfFE['retrans_arrived'] = pd.Series(i[8] for i in experiments2 if ('full-ephemeral' in i[0]))\n",
    "#dfFE['retrans_inTime'] = pd.Series(i[9] for i in experiments2 if ('full-ephemeral' in i[0]))\n",
    "dfFE['retrans_inTime_percent'] = pd.Series(i[10] for i in experiments2 if ('full-ephemeral' in i[0]))\n",
    "#dfFE['retrans_not_inTime'] = pd.Series(i[11] for i in experiments2 if ('full-ephemeral' in i[0]))\n",
    "dfFE['sentByClient'] = pd.Series(i[12] for i in experiments2 if ('full-ephemeral' in i[0]))\n",
    "#dfNE['receivedOnStreamByServer'] = pd.Series(i[13] for i in experiments2 if ('full-ephemeral' in i[0]))\n",
    "dfFE['good_receive_rate'] = pd.Series(i[14] for i in experiments2 if ('full-ephemeral' in i[0]))\n",
    "\n",
    "\n",
    "if(dfNE.size != 0):\n",
    "    \n",
    "# messages in time\n",
    "    fig = dfNE.plot(x=\"lossrate\", y=\"inTime\", kind='scatter', color=\"DarkBlue\", s=5)\n",
    "    x = dfNE.lossrate\n",
    "    y = dfNE['inTime']\n",
    "    fig.plot(x, y, 'b', marker=\"o\", ms=2)\n",
    "    x = dfLE.lossrate\n",
    "    y1 = dfLE['inTime']\n",
    "    fig.plot(x, y1, 'y', marker=\"v\", ms=2)\n",
    "    x = dfFE.lossrate\n",
    "    y2 = dfFE['inTime']\n",
    "    fig.plot(x, y2, 'r', marker=\"D\", ms=2)\n",
    "\n",
    "    fig.legend(['Non-Ephemeral', 'Light-Ephemeral', 'Full-Ephemeral'], loc=\"best\")\n",
    "\n",
    "    plt.xticks(dfNE.lossrate.tolist())\n",
    "    fig.set_xlabel('Loss Rate (\\%)')\n",
    "    fig.set_ylabel('In-time\\nmessages received')\n",
    "    plt.tight_layout()\n",
    "    #plt.savefig(f+model+\"_msgs_intime.pdf\")\n",
    "\n",
    "# messages in time\n",
    "    fig = dfNE.plot(x=\"lossrate\", y=\"good_receive_rate\", kind='scatter', color=\"DarkBlue\", s=5)\n",
    "    x = dfNE.lossrate\n",
    "    y = dfNE['good_receive_rate']\n",
    "    fig.plot(x, y, 'b', marker=\"o\", ms=2)\n",
    "    x = dfLE.lossrate\n",
    "    y1 = dfLE['good_receive_rate']\n",
    "    fig.plot(x, y1, 'y', marker=\"v\", ms=2)\n",
    "    x = dfFE.lossrate\n",
    "    y2 = dfFE['good_receive_rate']\n",
    "    fig.plot(x, y2, 'r', marker=\"D\", ms=2)\n",
    "\n",
    "    fig.legend(['Non-Ephemeral', 'Light-Ephemeral', 'Full-Ephemeral'], loc=\"best\")\n",
    "\n",
    "    plt.xticks(dfNE.lossrate.tolist())\n",
    "    fig.set_xlabel('Loss Rate (\\%)')\n",
    "    fig.set_ylabel('In-time\\nReceive Quota (\\%)')\n",
    "    plt.tight_layout()\n",
    "    #plt.savefig(f+model+\"_msgs_receiveRate.pdf\")\n",
    "\n",
    "\n",
    "# outdated messages\n",
    "    fig = dfNE.plot(x=\"lossrate\", y=\"outdated\", kind='scatter', color=\"DarkBlue\", s=5)\n",
    "    x = dfNE.lossrate\n",
    "    y = dfNE['outdated']\n",
    "    fig.plot(x, y, 'b', marker=\"o\", ms=2)\n",
    "    x = dfLE.lossrate\n",
    "    y1 = dfLE['outdated']\n",
    "    fig.plot(x, y1, 'y', marker=\"v\", ms=2)\n",
    "    x = dfFE.lossrate\n",
    "    y2 = dfFE['outdated']\n",
    "    fig.plot(x, y2, 'r', marker=\"D\", ms=2)\n",
    "\n",
    "    fig.legend(['Non-Ephemeral', 'Light-Ephemeral', 'Full-Ephemeral'], loc=\"best\")\n",
    "\n",
    "    plt.xticks(dfNE.lossrate.tolist())\n",
    "    fig.set_xlabel('Loss Rate (\\%)')\n",
    "    fig.set_ylabel('Number of outdated\\nmessages received')\n",
    "    plt.tight_layout()\n",
    "    #plt.savefig(f+model+\"_msgs_outdated.pdf\")\n",
    "\n",
    "# outdated messages (mean and max in ms)\n",
    "\n",
    "\n",
    "    #plt.tight_layout()\n",
    "    #plt.savefig(f+model+\"_msgs_outdated_mean_all3.pdf\")\n",
    "\n",
    "\n",
    "\n",
    "# retransmissions\n",
    "    plt.figure()\n",
    "    fig = dfNE.plot(x=\"lossrate\", y=\"retransmissions\", kind='scatter', color=\"DarkBlue\", s=5)\n",
    "    x = dfNE.lossrate\n",
    "    y = dfNE['retransmissions']\n",
    "    fig.plot(x, y, 'b', marker=\"o\", ms=2)\n",
    "    x = dfLE.lossrate\n",
    "    y1 = dfLE['retransmissions']\n",
    "    fig.plot(x, y1, 'y', marker=\"v\", ms=2)\n",
    "    x = dfFE.lossrate\n",
    "    y2 = dfFE['retransmissions']\n",
    "    fig.plot(x, y2, 'r', marker=\"D\", ms=2)\n",
    "\n",
    "    fig.legend(['Non-Ephemeral', 'Light-Ephemeral', 'Full-Ephemeral'], loc=\"best\")\n",
    "\n",
    "    plt.xticks(dfNE.lossrate.tolist())\n",
    "    fig.set_xlabel('Loss Rate (\\%)')\n",
    "    fig.set_ylabel('Number of\\nRetransmissions')\n",
    "    plt.tight_layout()\n",
    "    #plt.savefig(f+model+\"_msgs_retransmissions.pdf\")\n",
    "\n",
    "\n",
    "# retransmissions received in time (%)\n",
    "    fig = dfNE.plot(x=\"lossrate\", y=\"retrans_inTime_percent\", kind='scatter', color=\"DarkBlue\", s=5)\n",
    "    x = dfNE.lossrate\n",
    "    y = dfNE['retrans_inTime_percent']\n",
    "    fig.plot(x, y, 'b', marker=\"o\", ms=2)\n",
    "    x = dfLE.lossrate\n",
    "    y1 = dfLE['retrans_inTime_percent']\n",
    "    fig.plot(x, y1, 'y', marker=\"v\", ms=2)\n",
    "    x = dfFE.lossrate\n",
    "    y2 = dfFE['retrans_inTime_percent']\n",
    "    fig.plot(x, y2, 'r', marker=\"D\", ms=2)\n",
    "\n",
    "    fig.legend(['Non-Ephemeral', 'Light-Ephemeral', 'Full-Ephemeral'], loc=\"best\")\n",
    "\n",
    "    plt.xticks(dfNE.lossrate.tolist())\n",
    "    fig.set_xlabel('Loss Rate (\\%)')\n",
    "    fig.set_ylabel('Retransmissions\\nreceived in time (\\%)')\n",
    "    plt.tight_layout()\n",
    "    #plt.savefig(f+model+\"_msgs_retrans_inTime.pdf\")\n"
   ]
  },
  {
   "cell_type": "code",
   "execution_count": null,
   "metadata": {
    "scrolled": false
   },
   "outputs": [],
   "source": [
    "#print('Non-Ephemeral\\n', dfNE)#, '\\nLight-Ephemeral\\n', dfLE, '\\nFull-Ephemeral\\n', dfFE)\n",
    "\n",
    "#print(matplotlib.rcParams)\n",
    "\n",
    "dfNE['Version'] = 'N'\n",
    "dfLE['Version'] = 'L'\n",
    "dfFE['Version'] = 'F'\n",
    "dfAll = pd.concat([dfNE, dfLE, dfFE])\n",
    "dfAll = dfAll[dfAll['lossrate']!=1] # delete possible 1% lossrate runs\n",
    "#print(dfAll)\n",
    "\n",
    "plt.figure()\n",
    "fig = sns.boxplot(x='lossrate', y='inTime', hue='Version', data=dfAll, fliersize=0.0)\n",
    "\n",
    "plt.title('')\n",
    "plt.suptitle('')\n",
    "\n",
    "fig.set_xlabel('Loss Rate (\\%)')\n",
    "fig.set_ylabel('In-Time Messages')\n",
    "plt.tight_layout()\n",
    "plt.savefig(f+model+\"_msgs_intime_boxplot.pdf\")\n",
    "\n",
    "\n",
    "\n",
    "\n",
    "plt.figure()\n",
    "fig = sns.boxplot(x='lossrate', y='retransmissions', hue='Version', data=dfAll, fliersize=0.0)\n",
    "\n",
    "plt.title('')\n",
    "plt.suptitle('')\n",
    "\n",
    "fig.set_xlabel('Loss Rate (\\%)')\n",
    "fig.set_ylabel('Retransmissions\\nby Client')\n",
    "plt.tight_layout()\n",
    "plt.savefig(f+model+\"_msgs_retransmissions_boxplot.pdf\")\n",
    "\n",
    "print('N', dfAll[dfAll['Version']=='N'].groupby('lossrate').median())\n",
    "print('L', dfAll[dfAll['Version']=='L'].groupby('lossrate').median())\n",
    "print('F', dfAll[dfAll['Version']=='F'].groupby('lossrate').median())\n",
    "\n",
    "\n",
    "plt.figure()\n",
    "fig = sns.boxplot(x='lossrate', y='retrans_inTime_percent', hue='Version', data=dfAll, fliersize=0.0)\n",
    "\n",
    "plt.title('')\n",
    "plt.suptitle('')\n",
    "\n",
    "fig.set_xlabel('Loss Rate (\\%)')\n",
    "fig.set_ylabel('Retransmissions\\nreceived in time (\\%)')\n",
    "plt.tight_layout()\n",
    "plt.savefig(f+model+\"_msgs_retransInTime_boxplot.pdf\")\n",
    "\n",
    "\n",
    "\n",
    "\n",
    "\n",
    "\n",
    "# plt.figure()\n",
    "# fig = sns.boxplot(x='lossrate', y='outdated_mean', hue='Version', data=dfAll, fliersize=0.0)\n",
    "\n",
    "# plt.title('')\n",
    "# plt.suptitle('')\n",
    "\n",
    "# fig.set_xlabel('Loss Rate (\\%)')\n",
    "# fig.set_ylabel('Mean delay of\\noutdated messages (ms)')\n",
    "# plt.tight_layout()\n",
    "# plt.savefig(f+model+\"_msgs_outdated-mean_boxplot.pdf\")\n",
    "\n",
    "\n",
    "# plt.figure()\n",
    "# fig = sns.boxplot(x='lossrate', y='outdated_max', hue='Version', data=dfAll, fliersize=0.0)\n",
    "\n",
    "# plt.title('')\n",
    "# plt.suptitle('')\n",
    "\n",
    "# fig.set_xlabel('Loss Rate (\\%)')\n",
    "# fig.set_ylabel('Mean delay of\\noutdated messages (ms)')\n",
    "# plt.tight_layout()\n",
    "# plt.savefig(f+model+\"_msgs_outdated-max_boxplot.pdf\")"
   ]
  },
  {
   "cell_type": "code",
   "execution_count": null,
   "metadata": {
    "collapsed": true
   },
   "outputs": [],
   "source": []
  },
  {
   "cell_type": "code",
   "execution_count": null,
   "metadata": {
    "collapsed": true
   },
   "outputs": [],
   "source": []
  },
  {
   "cell_type": "code",
   "execution_count": 3,
   "metadata": {
    "scrolled": false
   },
   "outputs": [
    {
     "name": "stdout",
     "output_type": "stream",
     "text": [
      "./ct-drr\\20200204-1202-htb-drr--non-ephemeral-55-1400\\\n",
      "./ct-drr\\20200204-1212-htb-drr--light-ephemeral-55-1400\\\n",
      "./ct-drr\\20200204-1223-htb-drr--full-ephemeral-55-1400\\\n",
      "./ct-drr\\20200204-1233-htb-drr--non-ephemeral-55-1400\\\n",
      "./ct-drr\\20200204-1243-htb-drr--light-ephemeral-55-1400\\\n",
      "./ct-drr\\20200204-1254-htb-drr--full-ephemeral-55-1400\\\n",
      "./ct-drr\\20200204-1343-htb-drr--non-ephemeral-55-700\\\n",
      "./ct-drr\\20200204-1354-htb-drr--light-ephemeral-55-700\\\n",
      "./ct-drr\\20200204-1404-htb-drr--full-ephemeral-55-700\\\n",
      "./ct-drr\\20200204-1414-htb-drr--non-ephemeral-55-1000\\\n",
      "./ct-drr\\20200204-1425-htb-drr--light-ephemeral-55-1000\\\n",
      "./ct-drr\\20200204-1435-htb-drr--full-ephemeral-55-1000\\\n",
      "./ct-drr\\20200204-1448-htb-drr--non-ephemeral-55-500\\\n",
      "./ct-drr\\20200204-1458-htb-drr--light-ephemeral-55-500\\\n",
      "./ct-drr\\20200204-1509-htb-drr--full-ephemeral-55-500\\\n",
      "./ct-drr\\20200204-1757-htb-drr--non-ephemeral-55-500\\\n",
      "./ct-drr\\20200204-1807-htb-drr--light-ephemeral-55-500\\\n",
      "./ct-drr\\20200204-1818-htb-drr--full-ephemeral-55-500\\\n"
     ]
    },
    {
     "data": {
      "image/png": "[encoded data removed]",
      "text/plain": [
       "<matplotlib.figure.Figure at 0x171d4c362e8>"
      ]
     },
     "metadata": {},
     "output_type": "display_data"
    },
    {
     "data": {
      "image/png": "[encoded data removed]",
      "text/plain": [
       "<matplotlib.figure.Figure at 0x171d653e710>"
      ]
     },
     "metadata": {},
     "output_type": "display_data"
    },
    {
     "data": {
      "image/png": "[encoded data removed]",
      "text/plain": [
       "<matplotlib.figure.Figure at 0x171d2bc7e48>"
      ]
     },
     "metadata": {},
     "output_type": "display_data"
    },
    {
     "data": {
      "image/png": "[encoded data removed]",
      "text/plain": [
       "<matplotlib.figure.Figure at 0x171d60e2b70>"
      ]
     },
     "metadata": {},
     "output_type": "display_data"
    },
    {
     "data": {
      "image/png": "[encoded data removed]",
      "text/plain": [
       "<matplotlib.figure.Figure at 0x171d6170400>"
      ]
     },
     "metadata": {},
     "output_type": "display_data"
    },
    {
     "data": {
      "image/png": "[encoded data removed]",
      "text/plain": [
       "<matplotlib.figure.Figure at 0x171d68f5d30>"
      ]
     },
     "metadata": {},
     "output_type": "display_data"
    },
    {
     "data": {
      "image/png": "[encoded data removed]",
      "text/plain": [
       "<matplotlib.figure.Figure at 0x171d6b36be0>"
      ]
     },
     "metadata": {},
     "output_type": "display_data"
    },
    {
     "data": {
      "image/png": "[encoded data removed]",
      "text/plain": [
       "<matplotlib.figure.Figure at 0x171d7582470>"
      ]
     },
     "metadata": {},
     "output_type": "display_data"
    },
    {
     "data": {
      "image/png": "[encoded data removed]",
      "text/plain": [
       "<matplotlib.figure.Figure at 0x171d74f5198>"
      ]
     },
     "metadata": {},
     "output_type": "display_data"
    },
    {
     "data": {
      "image/png": "[encoded data removed]",
      "text/plain": [
       "<matplotlib.figure.Figure at 0x171d6434128>"
      ]
     },
     "metadata": {},
     "output_type": "display_data"
    },
    {
     "data": {
      "image/png": "[encoded data removed]",
      "text/plain": [
       "<matplotlib.figure.Figure at 0x171d64346a0>"
      ]
     },
     "metadata": {},
     "output_type": "display_data"
    },
    {
     "data": {
      "image/png": "[encoded data removed]",
      "text/plain": [
       "<matplotlib.figure.Figure at 0x171d77f16d8>"
      ]
     },
     "metadata": {},
     "output_type": "display_data"
    },
    {
     "data": {
      "image/png": "[encoded data removed]",
      "text/plain": [
       "<matplotlib.figure.Figure at 0x171d74e27f0>"
      ]
     },
     "metadata": {},
     "output_type": "display_data"
    },
    {
     "data": {
      "image/png": "[encoded data removed]",
      "text/plain": [
       "<matplotlib.figure.Figure at 0x171d6bdd1d0>"
      ]
     },
     "metadata": {},
     "output_type": "display_data"
    },
    {
     "data": {
      "image/png": "[encoded data removed]",
      "text/plain": [
       "<matplotlib.figure.Figure at 0x171d641d0b8>"
      ]
     },
     "metadata": {},
     "output_type": "display_data"
    },
    {
     "data": {
      "image/png": "[encoded data removed]",
      "text/plain": [
       "<matplotlib.figure.Figure at 0x171d64c59e8>"
      ]
     },
     "metadata": {},
     "output_type": "display_data"
    },
    {
     "data": {
      "image/png": "[encoded data removed]",
      "text/plain": [
       "<matplotlib.figure.Figure at 0x171d6bafb38>"
      ]
     },
     "metadata": {},
     "output_type": "display_data"
    },
    {
     "data": {
      "image/png": "[encoded data removed]",
      "text/plain": [
       "<matplotlib.figure.Figure at 0x171d718de48>"
      ]
     },
     "metadata": {},
     "output_type": "display_data"
    }
   ],
   "source": [
    "#Single Experiment\n",
    "# DRR: one-way-delay over time\n",
    "model='ct-drr' #(ct-)ge or random or ct-drr\n",
    "for f in glob.iglob('./'+model+'/*0204*/', recursive=True): # /*directoryRegExp*/ to reduce output (long runtime)\n",
    "    dfapp = pd.read_csv(f+'serverAppOutput', delim_whitespace=True ,names = \n",
    "                                        ['seconds_offset', 'streamid', 'length', 'msg_number', 'onewaydelay'])\n",
    "    dfstream = pd.read_csv(f+'serverStreamOutput', delim_whitespace=True ,names = \n",
    "                                        ['seconds_offset', 'streamid', 'byte_offset', 'length', 'msg_number', 'onewaydelay'])\n",
    "    dfclient = pd.read_csv(f+'clientStreamOutput', delim_whitespace=True ,names = \n",
    "                                        ['seconds_offset', 'streamid', 'msg_number'])\n",
    "    \n",
    "    dfKPI = pd.read_csv(f+'firstKPIs', delim_whitespace=True, names = ['seconds_offset', 'cwin', 'bytes-in-flight', 'nb_ret', \n",
    "                                                        'rtt_min', 'current_rtt', 'send_time','reception_time', \n",
    "                                                        'current_ackdelay', 'srtt', 'rtt_var', 'max_ackdelay', 'state']) \n",
    "                                                        #extraction of KPI: update from 18.10.19\n",
    "    title=f\n",
    "    print(f)\n",
    "    \n",
    "    dfapp.onewaydelay = dfapp.onewaydelay.apply(lambda x: x / 1000) # from us to ms\n",
    "    \n",
    "    fig = dfapp.plot(x=\"seconds_offset\", y=\"onewaydelay\", marker=\"x\", color=\"DarkBlue\")\n",
    "    \n",
    "    fig.set_xlabel('Runtime (seconds)')\n",
    "    fig.set_ylabel('One-way delay (ms)')\n",
    "    plt.tight_layout()\n",
    "    plt.savefig(f+\"one-way-delay.pdf\")"
   ]
  },
  {
   "cell_type": "code",
   "execution_count": 4,
   "metadata": {
    "scrolled": false
   },
   "outputs": [
    {
     "name": "stdout",
     "output_type": "stream",
     "text": [
      "./ct-drr\\20200204-1202-htb-drr--non-ephemeral-55-1400\\\n",
      "./ct-drr\\20200204-1212-htb-drr--light-ephemeral-55-1400\\\n",
      "./ct-drr\\20200204-1223-htb-drr--full-ephemeral-55-1400\\\n",
      "./ct-drr\\20200204-1233-htb-drr--non-ephemeral-55-1400\\\n",
      "./ct-drr\\20200204-1243-htb-drr--light-ephemeral-55-1400\\\n",
      "./ct-drr\\20200204-1254-htb-drr--full-ephemeral-55-1400\\\n",
      "./ct-drr\\20200204-1343-htb-drr--non-ephemeral-55-700\\\n",
      "./ct-drr\\20200204-1354-htb-drr--light-ephemeral-55-700\\\n",
      "./ct-drr\\20200204-1404-htb-drr--full-ephemeral-55-700\\\n",
      "./ct-drr\\20200204-1414-htb-drr--non-ephemeral-55-1000\\\n",
      "./ct-drr\\20200204-1425-htb-drr--light-ephemeral-55-1000\\\n",
      "./ct-drr\\20200204-1435-htb-drr--full-ephemeral-55-1000\\\n",
      "./ct-drr\\20200204-1448-htb-drr--non-ephemeral-55-500\\\n",
      "./ct-drr\\20200204-1458-htb-drr--light-ephemeral-55-500\\\n",
      "./ct-drr\\20200204-1509-htb-drr--full-ephemeral-55-500\\\n",
      "./ct-drr\\20200204-1757-htb-drr--non-ephemeral-55-500\\\n",
      "./ct-drr\\20200204-1807-htb-drr--light-ephemeral-55-500\\\n",
      "./ct-drr\\20200204-1818-htb-drr--full-ephemeral-55-500\\\n"
     ]
    },
    {
     "data": {
      "image/png": "[encoded data removed]",
      "text/plain": [
       "<matplotlib.figure.Figure at 0x171d4c66f98>"
      ]
     },
     "metadata": {},
     "output_type": "display_data"
    },
    {
     "data": {
      "image/png": "[encoded data removed]",
      "text/plain": [
       "<matplotlib.figure.Figure at 0x171d74217f0>"
      ]
     },
     "metadata": {},
     "output_type": "display_data"
    },
    {
     "data": {
      "image/png": "[encoded data removed]",
      "text/plain": [
       "<matplotlib.figure.Figure at 0x171d4c669b0>"
      ]
     },
     "metadata": {},
     "output_type": "display_data"
    },
    {
     "data": {
      "image/png": "[encoded data removed]",
      "text/plain": [
       "<matplotlib.figure.Figure at 0x171d703e898>"
      ]
     },
     "metadata": {},
     "output_type": "display_data"
    },
    {
     "data": {
      "image/png": "[encoded data removed]",
      "text/plain": [
       "<matplotlib.figure.Figure at 0x171d65dd5f8>"
      ]
     },
     "metadata": {},
     "output_type": "display_data"
    },
    {
     "data": {
      "image/png": "[encoded data removed]",
      "text/plain": [
       "<matplotlib.figure.Figure at 0x171d65ec400>"
      ]
     },
     "metadata": {},
     "output_type": "display_data"
    },
    {
     "data": {
      "image/png": "[encoded data removed]",
      "text/plain": [
       "<matplotlib.figure.Figure at 0x171d68c2da0>"
      ]
     },
     "metadata": {},
     "output_type": "display_data"
    },
    {
     "data": {
      "image/png": "[encoded data removed]",
      "text/plain": [
       "<matplotlib.figure.Figure at 0x171d69ea6a0>"
      ]
     },
     "metadata": {},
     "output_type": "display_data"
    },
    {
     "data": {
      "image/png": "[encoded data removed]",
      "text/plain": [
       "<matplotlib.figure.Figure at 0x171d63b8c88>"
      ]
     },
     "metadata": {},
     "output_type": "display_data"
    },
    {
     "data": {
      "image/png": "[encoded data removed]",
      "text/plain": [
       "<matplotlib.figure.Figure at 0x171d72f9b00>"
      ]
     },
     "metadata": {},
     "output_type": "display_data"
    },
    {
     "data": {
      "image/png": "[encoded data removed]",
      "text/plain": [
       "<matplotlib.figure.Figure at 0x171d7231470>"
      ]
     },
     "metadata": {},
     "output_type": "display_data"
    },
    {
     "data": {
      "image/png": "[encoded data removed]",
      "text/plain": [
       "<matplotlib.figure.Figure at 0x171d6adde48>"
      ]
     },
     "metadata": {},
     "output_type": "display_data"
    },
    {
     "data": {
      "image/png": "[encoded data removed]",
      "text/plain": [
       "<matplotlib.figure.Figure at 0x171d7596c88>"
      ]
     },
     "metadata": {},
     "output_type": "display_data"
    },
    {
     "data": {
      "image/png": "[encoded data removed]",
      "text/plain": [
       "<matplotlib.figure.Figure at 0x171d667b160>"
      ]
     },
     "metadata": {},
     "output_type": "display_data"
    },
    {
     "data": {
      "image/png": "[encoded data removed]",
      "text/plain": [
       "<matplotlib.figure.Figure at 0x171d6439390>"
      ]
     },
     "metadata": {},
     "output_type": "display_data"
    },
    {
     "data": {
      "image/png": "[encoded data removed]",
      "text/plain": [
       "<matplotlib.figure.Figure at 0x171d6674828>"
      ]
     },
     "metadata": {},
     "output_type": "display_data"
    },
    {
     "data": {
      "image/png": "[encoded data removed]",
      "text/plain": [
       "<matplotlib.figure.Figure at 0x171d6642dd8>"
      ]
     },
     "metadata": {},
     "output_type": "display_data"
    },
    {
     "data": {
      "image/png": "[encoded data removed]",
      "text/plain": [
       "<matplotlib.figure.Figure at 0x171d75d3d68>"
      ]
     },
     "metadata": {},
     "output_type": "display_data"
    }
   ],
   "source": [
    "#Single Experiment\n",
    "# DRR: retransmits over time\n",
    "model='ct-drr' #(ct-)ge or random or ct-drr\n",
    "for f in glob.iglob('./'+model+'/*0204*/', recursive=True): # /*directoryRegExp*/ to reduce output (long runtime)\n",
    "    dfapp = pd.read_csv(f+'serverAppOutput', delim_whitespace=True ,names = \n",
    "                                        ['seconds_offset', 'streamid', 'length', 'msg_number', 'onewaydelay'])\n",
    "    dfstream = pd.read_csv(f+'serverStreamOutput', delim_whitespace=True ,names = \n",
    "                                        ['seconds_offset', 'streamid', 'byte_offset', 'length', 'msg_number', 'onewaydelay'])\n",
    "    dfclient = pd.read_csv(f+'clientStreamOutput', delim_whitespace=True ,names = \n",
    "                                        ['seconds_offset', 'streamid', 'msg_number'])\n",
    "    \n",
    "    dfKPI = pd.read_csv(f+'firstKPIs', delim_whitespace=True, names = ['seconds_offset', 'cwin', 'bytes-in-flight', 'retransnb', \n",
    "                                                        'rtt_min', 'current_rtt', 'send_time','reception_time', \n",
    "                                                        'current_ackdelay', 'srtt', 'rtt_var', 'max_ackdelay', 'state']) \n",
    "                                                        #extraction of KPI: update from 18.10.19\n",
    "    title=f\n",
    "    print(f)\n",
    "    \n",
    "    fig = dfKPI.plot(x=\"seconds_offset\", y=\"retransnb\", marker=\"x\", color=\"red\")\n",
    "    \n",
    "    fig.set_xlabel('Runtime (seconds)')\n",
    "    fig.set_ylabel('Number of retransmissions')\n",
    "    plt.tight_layout()\n",
    "    plt.savefig(f+\"retransmissions.pdf\")"
   ]
  },
  {
   "cell_type": "code",
   "execution_count": 8,
   "metadata": {
    "scrolled": false
   },
   "outputs": [
    {
     "name": "stdout",
     "output_type": "stream",
     "text": [
      "./ct-drr\\20200204-1202-htb-drr--non-ephemeral-55-1400\\\n",
      "./ct-drr\\20200204-1212-htb-drr--light-ephemeral-55-1400\\\n",
      "./ct-drr\\20200204-1223-htb-drr--full-ephemeral-55-1400\\\n",
      "./ct-drr\\20200204-1233-htb-drr--non-ephemeral-55-1400\\\n",
      "./ct-drr\\20200204-1243-htb-drr--light-ephemeral-55-1400\\\n",
      "./ct-drr\\20200204-1254-htb-drr--full-ephemeral-55-1400\\\n",
      "./ct-drr\\20200204-1343-htb-drr--non-ephemeral-55-700\\\n",
      "./ct-drr\\20200204-1354-htb-drr--light-ephemeral-55-700\\\n",
      "./ct-drr\\20200204-1404-htb-drr--full-ephemeral-55-700\\\n",
      "./ct-drr\\20200204-1414-htb-drr--non-ephemeral-55-1000\\\n",
      "./ct-drr\\20200204-1425-htb-drr--light-ephemeral-55-1000\\\n",
      "./ct-drr\\20200204-1435-htb-drr--full-ephemeral-55-1000\\\n",
      "./ct-drr\\20200204-1448-htb-drr--non-ephemeral-55-500\\\n",
      "./ct-drr\\20200204-1458-htb-drr--light-ephemeral-55-500\\\n",
      "./ct-drr\\20200204-1509-htb-drr--full-ephemeral-55-500\\\n",
      "./ct-drr\\20200204-1757-htb-drr--non-ephemeral-55-500\\\n",
      "./ct-drr\\20200204-1807-htb-drr--light-ephemeral-55-500\\\n",
      "./ct-drr\\20200204-1818-htb-drr--full-ephemeral-55-500\\\n"
     ]
    },
    {
     "data": {
      "image/png": "[encoded data removed]",
      "text/plain": [
       "<matplotlib.figure.Figure at 0x171d5c6c710>"
      ]
     },
     "metadata": {},
     "output_type": "display_data"
    },
    {
     "data": {
      "image/png": "[encoded data removed]",
      "text/plain": [
       "<matplotlib.figure.Figure at 0x171d6dabd68>"
      ]
     },
     "metadata": {},
     "output_type": "display_data"
    },
    {
     "data": {
      "image/png": "[encoded data removed]",
      "text/plain": [
       "<matplotlib.figure.Figure at 0x171d64d36a0>"
      ]
     },
     "metadata": {},
     "output_type": "display_data"
    },
    {
     "data": {
      "image/png": "[encoded data removed]",
      "text/plain": [
       "<matplotlib.figure.Figure at 0x171d75a92e8>"
      ]
     },
     "metadata": {},
     "output_type": "display_data"
    },
    {
     "data": {
      "image/png": "[encoded data removed]",
      "text/plain": [
       "<matplotlib.figure.Figure at 0x171d6aa52b0>"
      ]
     },
     "metadata": {},
     "output_type": "display_data"
    },
    {
     "data": {
      "image/png": "[encoded data removed]",
      "text/plain": [
       "<matplotlib.figure.Figure at 0x171d702d438>"
      ]
     },
     "metadata": {},
     "output_type": "display_data"
    },
    {
     "data": {
      "image/png": "[encoded data removed]",
      "text/plain": [
       "<matplotlib.figure.Figure at 0x171d7021780>"
      ]
     },
     "metadata": {},
     "output_type": "display_data"
    },
    {
     "data": {
      "image/png": "[encoded data removed]",
      "text/plain": [
       "<matplotlib.figure.Figure at 0x171d64a8be0>"
      ]
     },
     "metadata": {},
     "output_type": "display_data"
    },
    {
     "data": {
      "image/png": "[encoded data removed]",
      "text/plain": [
       "<matplotlib.figure.Figure at 0x171d7ab1e48>"
      ]
     },
     "metadata": {},
     "output_type": "display_data"
    },
    {
     "data": {
      "image/png": "[encoded data removed]",
      "text/plain": [
       "<matplotlib.figure.Figure at 0x171d746b0f0>"
      ]
     },
     "metadata": {},
     "output_type": "display_data"
    },
    {
     "data": {
      "image/png": "[encoded data removed]",
      "text/plain": [
       "<matplotlib.figure.Figure at 0x171d7166048>"
      ]
     },
     "metadata": {},
     "output_type": "display_data"
    },
    {
     "data": {
      "image/png": "[encoded data removed]",
      "text/plain": [
       "<matplotlib.figure.Figure at 0x171d772f208>"
      ]
     },
     "metadata": {},
     "output_type": "display_data"
    },
    {
     "data": {
      "image/png": "[encoded data removed]",
      "text/plain": [
       "<matplotlib.figure.Figure at 0x171d74bb4a8>"
      ]
     },
     "metadata": {},
     "output_type": "display_data"
    },
    {
     "data": {
      "image/png": "[encoded data removed]",
      "text/plain": [
       "<matplotlib.figure.Figure at 0x171d7735828>"
      ]
     },
     "metadata": {},
     "output_type": "display_data"
    },
    {
     "data": {
      "image/png": "[encoded data removed]",
      "text/plain": [
       "<matplotlib.figure.Figure at 0x171d772f908>"
      ]
     },
     "metadata": {},
     "output_type": "display_data"
    },
    {
     "data": {
      "image/png": "[encoded data removed]",
      "text/plain": [
       "<matplotlib.figure.Figure at 0x171d6df1a90>"
      ]
     },
     "metadata": {},
     "output_type": "display_data"
    },
    {
     "data": {
      "image/png": "[encoded data removed]",
      "text/plain": [
       "<matplotlib.figure.Figure at 0x171d79ba278>"
      ]
     },
     "metadata": {},
     "output_type": "display_data"
    },
    {
     "data": {
      "image/png": "[encoded data removed]",
      "text/plain": [
       "<matplotlib.figure.Figure at 0x171d8d1c780>"
      ]
     },
     "metadata": {},
     "output_type": "display_data"
    }
   ],
   "source": [
    "#Single Experiment\n",
    "# DRR: msgs-in-time over time\n",
    "model='ct-drr' #(ct-)ge or random or ct-drr\n",
    "for f in glob.iglob('./'+model+'/*0204*/', recursive=True): # /*directoryRegExp*/ to reduce output (long runtime)\n",
    "    dfapp = pd.read_csv(f+'serverAppOutput', delim_whitespace=True ,names = \n",
    "                                        ['seconds_offset', 'streamid', 'length', 'msg_number', 'onewaydelay'])\n",
    "    dfstream = pd.read_csv(f+'serverStreamOutput', delim_whitespace=True ,names = \n",
    "                                        ['seconds_offset', 'streamid', 'byte_offset', 'length', 'msg_number', 'onewaydelay'])\n",
    "    dfclient = pd.read_csv(f+'clientStreamOutput', delim_whitespace=True ,names = \n",
    "                                        ['seconds_offset', 'streamid', 'msg_number'])\n",
    "    \n",
    "    dfKPI = pd.read_csv(f+'firstKPIs', delim_whitespace=True, names = ['seconds_offset', 'cwin', 'bytes-in-flight', 'retransnb', \n",
    "                                                        'rtt_min', 'current_rtt', 'send_time','reception_time', \n",
    "                                                        'current_ackdelay', 'srtt', 'rtt_var', 'max_ackdelay', 'state']) \n",
    "                                                        #extraction of KPI: update from 18.10.19\n",
    "    title=f\n",
    "    print(f)\n",
    "    \n",
    "    dfapp.onewaydelay = dfapp.onewaydelay.apply(lambda x: x / 1000) # from us to ms\n",
    "\n",
    "    sortedOneWayDelay = dfapp['onewaydelay'].sort_values()\n",
    "    \n",
    "    #outdated = pd.Series();\n",
    "    #inTime = pd.Series();\n",
    "    x=0\n",
    "    \n",
    "    dfapp.loc[dfapp['seconds_offset'] > 100, 'msgsintime'] = 1\n",
    "            \n",
    "    #for i, value in enumerate(dfapp.onewaydelay):\n",
    "        #if(value>100):\n",
    "            #outdated = outdated.set_value(i, value)\n",
    "            #dfapp.at['msgsintime', i] = x\n",
    "        #else:\n",
    "            #inTime = inTime.set_value(i, value)\n",
    "            #x = x+1\n",
    "            #dfapp.at['msgsintime', i] = x\n",
    "            \n",
    "    #print(dfapp.onewaydelay.size, ' overall, ', inTime.size, ' in time, ', outdated.size, ' outdated')\n",
    "    \n",
    "    #plt.figure()\n",
    "    fig = dfapp.plot(x=\"seconds_offset\", y=\"msgsintime\", marker=\"x\", color=\"red\")\n",
    "    \n",
    "    fig.set_xlabel('Runtime (seconds)')\n",
    "    fig.set_ylabel('Messages in time')\n",
    "    plt.tight_layout()\n",
    "    plt.savefig(f+\"intime.pdf\")"
   ]
  },
  {
   "cell_type": "code",
   "execution_count": 67,
   "metadata": {},
   "outputs": [
    {
     "data": {
      "image/png": "[encoded data removed]",
      "text/plain": [
       "<matplotlib.figure.Figure at 0x171d74d5ef0>"
      ]
     },
     "metadata": {},
     "output_type": "display_data"
    }
   ],
   "source": [
    "fN='20200204-1448-htb-drr--non-ephemeral-55-500'\n",
    "fL='20200204-1458-htb-drr--light-ephemeral-55-500'\n",
    "fF='20200204-1509-htb-drr--full-ephemeral-55-500'\n",
    "\n",
    "dfN = pd.read_csv('./ct-drr/'+fN+'/serverAppOutput', delim_whitespace=True ,names = \n",
    "                                        ['seconds_offset', 'streamid', 'length', 'msg_number', 'onewaydelay'])\n",
    "dfL = pd.read_csv('./ct-drr/'+fL+'/serverAppOutput', delim_whitespace=True ,names = \n",
    "                                        ['seconds_offset', 'streamid', 'length', 'msg_number', 'onewaydelay'])\n",
    "dfF = pd.read_csv('./ct-drr/'+fF+'/serverAppOutput', delim_whitespace=True ,names = \n",
    "                                        ['seconds_offset', 'streamid', 'length', 'msg_number', 'onewaydelay'])\n",
    "\n",
    "dfN.onewaydelay = dfN.onewaydelay.apply(lambda x: x / 1000) # from us to ms\n",
    "dfL.onewaydelay = dfL.onewaydelay.apply(lambda x: x / 1000) # from us to ms\n",
    "dfF.onewaydelay = dfF.onewaydelay.apply(lambda x: x / 1000) # from us to ms\n",
    "\n",
    "x1=dfN.seconds_offset\n",
    "x2=dfL.seconds_offset\n",
    "x3=dfF.seconds_offset\n",
    "y1=dfN.onewaydelay\n",
    "y2=dfL.onewaydelay\n",
    "y3=dfF.onewaydelay\n",
    "\n",
    "plt.plot(x1,y1, 'b-'),\n",
    "plt.plot(x2,y2, 'g-'),\n",
    "plt.plot(x3,y3,'y:'),\n",
    "#plt.plot(x2,y4,'k:'),\n",
    "\n",
    "#plt.gca().set_ylim([-200,4000])\n",
    "plt.gca().set_xlim([-1,300])\n",
    "plt.axvline(x=30, ymax=0.1, color='k', ls='--')\n",
    "plt.axvline(x=60, ymax=0.1, color='k', ls='--')\n",
    "plt.axvline(x=90, ymax=0.1, color='k', ls='--')\n",
    "plt.axvline(x=120, ymax=0.1, color='k', ls='--')\n",
    "plt.axvline(x=180, ymax=0.1, color='k')\n",
    "plt.axvline(x=210, ymax=0.1, color='k')\n",
    "plt.axvline(x=240, ymax=0.1, color='k')\n",
    "plt.axvline(x=270, ymax=0.1, color='k')\n",
    "\n",
    "plt.legend(['non-ephemeral', 'light-ephemeral', 'full-ephemeral']),\n",
    "plt.xlabel('Runtime (seconds)'),\n",
    "plt.ylabel('One-way delay (ms)'),\n",
    "\n",
    "plt.tight_layout()\n",
    "plt.savefig('./ct-drr/'+fF+'/one-way-delay_all.pdf')\n"
   ]
  },
  {
   "cell_type": "code",
   "execution_count": 66,
   "metadata": {},
   "outputs": [
    {
     "data": {
      "image/png": "[encoded data removed]",
      "text/plain": [
       "<matplotlib.figure.Figure at 0x171d7595470>"
      ]
     },
     "metadata": {},
     "output_type": "display_data"
    }
   ],
   "source": [
    "fN='20200204-1448-htb-drr--non-ephemeral-55-500'\n",
    "fL='20200204-1458-htb-drr--light-ephemeral-55-500'\n",
    "fF='20200204-1509-htb-drr--full-ephemeral-55-500'\n",
    "\n",
    "dfN = pd.read_csv('./ct-drr/'+fN+'/firstKPIs', delim_whitespace=True, names = ['seconds_offset', 'cwin', 'bytes-in-flight', 'retransnb', \n",
    "                                                        'rtt_min', 'current_rtt', 'send_time','msgnumber', \n",
    "                                                        'current_ackdelay', 'srtt', 'rtt_var', 'max_ackdelay', 'state'])\n",
    "dfL = pd.read_csv('./ct-drr/'+fL+'/firstKPIs', delim_whitespace=True, names = ['seconds_offset', 'cwin', 'bytes-in-flight', 'retransnb', \n",
    "                                                        'rtt_min', 'current_rtt', 'send_time','msgnumber', \n",
    "                                                        'current_ackdelay', 'srtt', 'rtt_var', 'max_ackdelay', 'state'])\n",
    "dfF = pd.read_csv('./ct-drr/'+fF+'/firstKPIs', delim_whitespace=True, names = ['seconds_offset', 'cwin', 'bytes-in-flight', 'retransnb', \n",
    "                                                        'rtt_min', 'current_rtt', 'send_time','msgnumber', \n",
    "                                                        'current_ackdelay', 'srtt', 'rtt_var', 'max_ackdelay', 'state'])\n",
    "\n",
    "x1=dfN.seconds_offset\n",
    "x2=dfL.seconds_offset\n",
    "x3=dfF.seconds_offset\n",
    "y1=dfN.retransnb\n",
    "y2=dfL.retransnb\n",
    "y3=dfF.retransnb\n",
    "\n",
    "plt.plot(x1,y1, 'b-'),\n",
    "plt.plot(x2,y2, 'g-'),\n",
    "plt.plot(x3,y3,'y:'),\n",
    "#plt.plot(x2,y4,'k:'),\n",
    "\n",
    "#plt.gca().set_ylim([-200,4000])\n",
    "plt.gca().set_xlim([-1,300])\n",
    "plt.axvline(x=30, ymax=0.1, color='k', ls='--')\n",
    "plt.axvline(x=60, ymax=0.1, color='k', ls='--')\n",
    "plt.axvline(x=90, ymax=0.1, color='k', ls='--')\n",
    "plt.axvline(x=120, ymax=0.1, color='k', ls='--')\n",
    "plt.axvline(x=180, ymax=0.1, color='k')\n",
    "plt.axvline(x=210, ymax=0.1, color='k')\n",
    "plt.axvline(x=240, ymax=0.1, color='k')\n",
    "plt.axvline(x=270, ymax=0.1, color='k')\n",
    "\n",
    "plt.legend(['non-ephemeral', 'light-ephemeral', 'full-ephemeral']),\n",
    "plt.xlabel('Runtime (seconds)'),\n",
    "plt.ylabel('Number of Retransmissions'),\n",
    "\n",
    "plt.tight_layout()\n",
    "plt.savefig('./ct-drr/'+fF+'/retransmissions_all.pdf')"
   ]
  },
  {
   "cell_type": "code",
   "execution_count": 74,
   "metadata": {},
   "outputs": [
    {
     "data": {
      "image/png": "[encoded data removed]",
      "text/plain": [
       "<matplotlib.figure.Figure at 0x171d74796a0>"
      ]
     },
     "metadata": {},
     "output_type": "display_data"
    }
   ],
   "source": [
    "fN='20200204-1448-htb-drr--non-ephemeral-55-500'\n",
    "fL='20200204-1458-htb-drr--light-ephemeral-55-500'\n",
    "fF='20200204-1509-htb-drr--full-ephemeral-55-500'\n",
    "#fN='20200204-1202-htb-drr--non-ephemeral-55-1400'\n",
    "#fL='20200204-1212-htb-drr--light-ephemeral-55-1400'\n",
    "fF='20200204-1223-htb-drr--full-ephemeral-55-1400'\n",
    "\n",
    "dfN = pd.read_csv('./ct-drr/'+fN+'/firstKPIs', delim_whitespace=True, names = ['seconds_offset', 'cwin', 'bytes-in-flight', 'retransnb', \n",
    "                                                        'rtt_min', 'current_rtt', 'send_time','msgnumber', \n",
    "                                                        'current_ackdelay', 'srtt', 'rtt_var', 'max_ackdelay', 'state'])\n",
    "dfL = pd.read_csv('./ct-drr/'+fL+'/firstKPIs', delim_whitespace=True, names = ['seconds_offset', 'cwin', 'bytes-in-flight', 'retransnb', \n",
    "                                                        'rtt_min', 'current_rtt', 'send_time','msgnumber', \n",
    "                                                        'current_ackdelay', 'srtt', 'rtt_var', 'max_ackdelay', 'state'])\n",
    "dfF = pd.read_csv('./ct-drr/'+fF+'/firstKPIs', delim_whitespace=True, names = ['seconds_offset', 'cwin', 'bytes-in-flight', 'retransnb', \n",
    "                                                        'rtt_min', 'current_rtt', 'send_time','msgnumber', \n",
    "                                                        'current_ackdelay', 'srtt', 'rtt_var', 'max_ackdelay', 'state'])\n",
    "\n",
    "dfN.current_rtt = dfN.current_rtt.apply(lambda x: x / 1000) # from us to ms\n",
    "dfL.current_rtt = dfL.current_rtt.apply(lambda x: x / 1000) # from us to ms\n",
    "dfF.current_rtt = dfF.current_rtt.apply(lambda x: x / 1000) # from us to ms\n",
    "\n",
    "x1=dfN.seconds_offset\n",
    "x2=dfL.seconds_offset\n",
    "x3=dfF.seconds_offset\n",
    "y1=dfN.current_rtt\n",
    "y2=dfL.current_rtt\n",
    "y3=dfF.current_rtt\n",
    "\n",
    "plt.plot(x1,y1, 'b-'),\n",
    "plt.plot(x2,y2, 'g-'),\n",
    "plt.plot(x3,y3,'y:'),\n",
    "#plt.plot(x2,y4,'k:'),\n",
    "\n",
    "#plt.gca().set_ylim([-200,4000])\n",
    "plt.gca().set_xlim([-1,300])\n",
    "plt.axvline(x=30, ymax=0.1, color='k', ls='--')\n",
    "plt.axvline(x=60, ymax=0.1, color='k', ls='--')\n",
    "plt.axvline(x=90, ymax=0.1, color='k', ls='--')\n",
    "plt.axvline(x=120, ymax=0.1, color='k', ls='--')\n",
    "plt.axvline(x=180, ymax=0.1, color='k')\n",
    "plt.axvline(x=210, ymax=0.1, color='k')\n",
    "plt.axvline(x=240, ymax=0.1, color='k')\n",
    "plt.axvline(x=270, ymax=0.1, color='k')\n",
    "\n",
    "plt.legend(['non-ephemeral', 'light-ephemeral', 'full-ephemeral']),\n",
    "plt.xlabel('Runtime (seconds)'),\n",
    "plt.ylabel('Current RTT at client (ms)'),\n",
    "\n",
    "plt.tight_layout()\n",
    "plt.savefig('./ct-drr/'+fF+'/currentRTT_all.pdf')"
   ]
  },
  {
   "cell_type": "code",
   "execution_count": null,
   "metadata": {
    "collapsed": true
   },
   "outputs": [],
   "source": []
  },
  {
   "cell_type": "code",
   "execution_count": null,
   "metadata": {
    "collapsed": true
   },
   "outputs": [],
   "source": []
  },
  {
   "cell_type": "code",
   "execution_count": null,
   "metadata": {
    "collapsed": true
   },
   "outputs": [],
   "source": []
  },
  {
   "cell_type": "code",
   "execution_count": null,
   "metadata": {
    "collapsed": true
   },
   "outputs": [],
   "source": []
  },
  {
   "cell_type": "code",
   "execution_count": null,
   "metadata": {
    "collapsed": true
   },
   "outputs": [],
   "source": []
  },
  {
   "cell_type": "code",
   "execution_count": null,
   "metadata": {
    "collapsed": true
   },
   "outputs": [],
   "source": []
  },
  {
   "cell_type": "code",
   "execution_count": null,
   "metadata": {
    "collapsed": true
   },
   "outputs": [],
   "source": []
  },
  {
   "cell_type": "code",
   "execution_count": null,
   "metadata": {
    "collapsed": true
   },
   "outputs": [],
   "source": []
  },
  {
   "cell_type": "code",
   "execution_count": null,
   "metadata": {
    "collapsed": true
   },
   "outputs": [],
   "source": []
  },
  {
   "cell_type": "code",
   "execution_count": null,
   "metadata": {
    "collapsed": true
   },
   "outputs": [],
   "source": []
  },
  {
   "cell_type": "code",
   "execution_count": null,
   "metadata": {
    "collapsed": true
   },
   "outputs": [],
   "source": [
    "#print('Non-Ephemeral\\n', dfNE)#, '\\nLight-Ephemeral\\n', dfLE, '\\nFull-Ephemeral\\n', dfFE)\n",
    "\n",
    "#print(matplotlib.rcParams)\n",
    "\n",
    "dfNE['Version'] = 'N'\n",
    "dfLE['Version'] = 'L'\n",
    "dfFE['Version'] = 'F'\n",
    "dfAll = pd.concat([dfNE, dfLE, dfFE])\n",
    "dfAll = dfAll[dfAll['lossrate']!=1] # delete possible 1% lossrate runs\n",
    "#print(dfAll)\n",
    "\n",
    "boxprops=dict(linewidth=0.4, color=\"black\") #coloring here does not work\n",
    "medianprops=dict(linewidth=0.4, color=\"black\")\n",
    "whiskerprops=dict(linewidth=0.4, color='black')\n",
    "capprops=dict(linewidth=0.1, color=\"black\")\n",
    "flierprops=dict(marker='x', markeredgecolor='k', markersize=1)\n",
    "\n",
    "fig = dfAll.boxplot(column='inTime', by=['lossrate', 'Version'], boxprops=boxprops, whiskerprops=whiskerprops, medianprops=medianprops, flierprops=flierprops, showfliers=False, patch_artist=True)\n",
    "\n",
    "\n",
    "plt.title('')\n",
    "plt.suptitle('')\n",
    "\n",
    "\n",
    "for i, obj in enumerate(fig.findobj(matplotlib.patches.Patch)):\n",
    "    if i>14:\n",
    "        break;\n",
    "    #print(i, obj, obj.get_path())\n",
    "    if (i%3) == 0: \n",
    "        obj.set_facecolor(\"salmon\")\n",
    "        #print(obj.get_edgecolor())\n",
    "        obj.set_edgecolor(\"black\") # does work, but still the line is blue\n",
    "    else:\n",
    "        if (i%3) == 1:\n",
    "            obj.set_facecolor(\"gold\")\n",
    "            obj.set_edgecolor(\"black\")\n",
    "        else:\n",
    "            obj.set_facecolor(\"c\")\n",
    "            obj.set_edgecolor(\"black\")\n",
    "            \n",
    "            \n",
    "if '1' in dfAll.lossrate:\n",
    "    plt.xticks([2, 5, 8, 11, 14], [1, 2, 4, 8, 16])\n",
    "else:\n",
    "    plt.xticks([2, 5, 8, 11], [2, 4, 8, 16])\n",
    "\n",
    "fig.set_xlabel('Loss Rate (\\%)')\n",
    "fig.set_ylabel('In-time\\nmessages received')\n",
    "plt.tight_layout()\n",
    "plt.savefig(f+model+\"_msgs_intime_boxplot.pdf\")"
   ]
  },
  {
   "cell_type": "code",
   "execution_count": null,
   "metadata": {
    "collapsed": true
   },
   "outputs": [],
   "source": [
    "#CCDFs\n",
    "# one-way delay (stream layer)\n",
    "for f in glob.iglob('./crosstraffic_mqs-6/*201912*/', recursive=True): # /*directoryRegExp*/ to reduce output (long runtime)\n",
    "    dfapp = pd.read_csv(f+'serverAppOutput', delim_whitespace=True ,names = \n",
    "                                    ['seconds_offset', 'streamid', 'length', 'msg_number', 'onewaydelay'])\n",
    "    dfstream = pd.read_csv(f+'serverStreamOutput', delim_whitespace=True ,names = \n",
    "                                    ['seconds_offset', 'streamid', 'byte_offset', 'length', 'msg_number', 'onewaydelay'])\n",
    "\n",
    "    title=f\n",
    "    del dfstream['length']\n",
    "    print(f)\n",
    "    \n",
    "    dfstream.onewaydelay = dfstream.onewaydelay.apply(lambda x: x / 1000) # from us to ms\n",
    "\n",
    "    sortedOneWayDelay = dfstream['onewaydelay'].sort_values()\n",
    "    print(sortedOneWayDelay.size)\n",
    "    \n",
    "    outdated = pd.Series();\n",
    "    inTime = pd.Series();\n",
    "    for i, value in enumerate(dfstream.onewaydelay):\n",
    "        if(value>100):\n",
    "            outdated = outdated.set_value(i, value)\n",
    "        else:\n",
    "            inTime = inTime.set_value(i, value)\n",
    "            \n",
    "    print('Outdated:', outdated.size, 'min:', outdated.min(), 'mean:', outdated.mean(), \n",
    "            'median:', outdated.median(), 'max:', outdated.max(), ' (all delays in ms)')\n",
    "    print('MsgsInTime:', inTime.size, 'min:', inTime.min(), 'mean:', inTime.mean(), \n",
    "            'median:', inTime.median(), 'max:', inTime.max(), ' (all delays in ms)\\n')\n",
    "    \n",
    "    #build the CDF\n",
    "    cum_dist = np.linspace(1.,0.,len(sortedOneWayDelay))\n",
    "    cdf = pd.Series(cum_dist, index=sortedOneWayDelay)\n",
    "    fig = plt.figure() #this line makes a plot for every file\n",
    "    fig = cdf.plot(color='r', linestyle=':', drawstyle='steps')\n",
    "    \n",
    "    #fig.text(sortedRetrans.max()*0.75, 0.9, num_retrans, horizontalalignment='center', verticalalignment='center')\n",
    "\n",
    "    fig.set_xlabel('Delay of packets (ms)')\n",
    "    fig.set_yscale('log')\n",
    "    plt.tight_layout()\n",
    "    plt.savefig(f+\"ccdf_one-way-delay_stream.pdf\")"
   ]
  },
  {
   "cell_type": "code",
   "execution_count": null,
   "metadata": {
    "collapsed": true
   },
   "outputs": [],
   "source": [
    "''' \n",
    "# for every version: \n",
    "# compute mean, and get min and max for every lossrate over all runs\n",
    "# plot the mean, with errorbar yerr=max-min\n",
    "\n",
    "dfAll = pd.DataFrame()\n",
    "dfAll['NE-inTime-mean'] = dfNE.groupby('lossrate')['inTime'].mean()\n",
    "dfAll['NE-inTime-max'] = dfNE.groupby('lossrate')['inTime'].max()\n",
    "dfAll['NE-inTime-min'] = dfNE.groupby('lossrate')['inTime'].min()\n",
    "dfAll['NE-inTime-var'] = dfAll['NE-inTime-max']-dfAll['NE-inTime-min']\n",
    "\n",
    "dfAll['LE-inTime-mean'] = dfLE.groupby('lossrate')['inTime'].mean()\n",
    "dfAll['LE-inTime-max'] = dfLE.groupby('lossrate')['inTime'].max()\n",
    "dfAll['LE-inTime-min'] = dfLE.groupby('lossrate')['inTime'].min()\n",
    "dfAll['LE-inTime-var'] = dfAll['LE-inTime-max']-dfAll['LE-inTime-min']\n",
    "\n",
    "dfAll['FE-inTime-mean'] = dfFE.groupby('lossrate')['inTime'].mean()\n",
    "dfAll['FE-inTime-max'] = dfFE.groupby('lossrate')['inTime'].max()\n",
    "dfAll['FE-inTime-min'] = dfFE.groupby('lossrate')['inTime'].min()\n",
    "dfAll['FE-inTime-var'] = dfAll['FE-inTime-max']-dfAll['FE-inTime-min']\n",
    "\n",
    "dfAll.reset_index(inplace=True)\n",
    "print(dfAll)\n",
    "\n",
    "cap=2; #capsize for errorbars\n",
    "mark=1; #markersize for plots\n",
    "lin='None';\n",
    "shift=0.25\n",
    "\n",
    "\n",
    "# messages received in time with variance\n",
    "    fig = dfAll.plot(x=\"lossrate\", y=\"LE-inTime-mean\", kind='scatter', color=\"y\", s=1)\n",
    "    \n",
    "    x = dfAll.lossrate.apply(lambda x: x-shift)\n",
    "    y = dfAll['NE-inTime-mean']\n",
    "    yerr = dfAll['NE-inTime-var']\n",
    "    fig.plot(x, y, 'b', marker=\"o\", ms=mark, color='b', ls=lin)\n",
    "    fig.errorbar(x, y, yerr, capsize=cap, ls=lin)\n",
    "    \n",
    "    x1 = dfAll.lossrate\n",
    "    y1 = dfAll['LE-inTime-mean']\n",
    "    yerr1 = dfAll['LE-inTime-var']\n",
    "    fig.plot(x1, y1, 'y', marker=\"v\", ms=mark, ls=lin)\n",
    "    fig.errorbar(x1, y1, yerr1, capsize=cap, color='y', ls=lin)\n",
    "    \n",
    "    x2 = dfAll.lossrate.apply(lambda x: x+shift)\n",
    "    y2 = dfAll['FE-inTime-mean']\n",
    "    yerr2 = dfAll['FE-inTime-var']\n",
    "    fig.plot(x2, y2, 'r', marker=\"D\", ms=mark, ls=lin)\n",
    "    fig.errorbar(x2, y2, yerr2, capsize=cap, color='r', ls=lin)\n",
    "\n",
    "    fig.legend(['Non-Ephemeral', 'Light-Ephemeral', 'Full-Ephemeral'], loc=\"best\")\n",
    "    \n",
    "    #fig.set_xscale('log')\n",
    "    plt.xticks(dfAll.lossrate.tolist())\n",
    "    fig.set_xlabel('Loss Rate (\\%)')\n",
    "    fig.set_ylabel('In-time\\nmessages received')\n",
    "    plt.tight_layout()\n",
    "    plt.savefig(f+\"msgs_intime+variance.pdf\")'''"
   ]
  },
  {
   "cell_type": "code",
   "execution_count": null,
   "metadata": {
    "collapsed": true
   },
   "outputs": [],
   "source": [
    "# outdated holes\n",
    "# 1. STREAM LEVEL \n",
    "# 2. APP LEVEL\n",
    "# msgs consecutively lost (holes)\n",
    "for f in glob.iglob('./*20191204*/', recursive=True): # /*directoryRegExp*/ to reduce output (long runtime)\n",
    "    dfapp = pd.read_csv(f+'serverAppOutput', delim_whitespace=True ,names = \n",
    "                                        ['seconds_offset', 'streamid', 'length', 'msg_number', 'onewaydelay'])\n",
    "    dfstream = pd.read_csv(f+'serverStreamOutput', delim_whitespace=True ,names = \n",
    "                                        ['seconds_offset', 'streamid', 'byte_offset', 'length', 'msg_number', 'onewaydelay'])\n",
    "\n",
    "    title=f\n",
    "    print(f)\n",
    "    del dfstream['length']\n",
    "    dfstream.onewaydelay = dfstream.onewaydelay.apply(lambda x: x / 1000) # from us to ms\n",
    "    dfapp.onewaydelay = dfapp.onewaydelay.apply(lambda x: x / 1000) # from us to ms\n",
    "\n",
    "    diffList = []; # [difference, n1, n2] -> when negative, outdated data. When positive, hole\n",
    "                # !! when APP not STREAM used, than non-ephemeral has no holes since it reorders on app-level\n",
    "   \n",
    "    outdatedList = []; # how many outdated messages were processed\n",
    "    \n",
    "    holeList = []; # how big are the data holes\n",
    "    holeTimeList = []; # what are sizes of the holes in time\n",
    "    \n",
    "    for i, number in enumerate(dfstream['msg_number']):\n",
    "        if i+1 < dfstream.msg_number.size:\n",
    "            n1 = dfstream.msg_number[i]\n",
    "            n2 = dfstream.msg_number[i+1]\n",
    "            if n2 != n1+1:\n",
    "                timedDiff=0\n",
    "                if(n2 > n1):\n",
    "                    timedDiff = dfapp.seconds_offset[i+1]*1000 - dfapp.seconds_offset[i]*1000\n",
    "                    holeTimeList.append(timedDiff)\n",
    "                diffList.append([n2-n1, n1, n2])\n",
    "                #print(n2-n1, n1, n2, str(timedDiff))\n",
    "    \n",
    "    for j in diffList:\n",
    "        if j[0] < 0:\n",
    "            outdatedList.append(j)\n",
    "        else:\n",
    "            holeList.append(j)\n",
    "            \n",
    "    outdated = pd.Series(i[0] for i in outdatedList)\n",
    "    holes = pd.Series(i[0] for i in holeList)\n",
    "    holeTimes = pd.Series(holeTimeList)\n",
    "    print('# STREAM LEVEL')\n",
    "    print('Outdated by: min=', outdated.min(), 'mean=', outdated.mean(), 'median=', outdated.median(), 'max=', outdated.max(), 'occurences=', outdated.size)\n",
    "    print('Hole times: min=', holeTimes.min(), 'mean=', holeTimes.mean(), 'median=', holeTimes.median(), 'max=', holeTimes.max(), 'occurences=', holeTimes.size)\n",
    "    print('Hole sizes: min=', holes.min(), 'mean=', holes.mean(), 'median=', holes.median(), 'max=', holes.max(), 'occurences=', holes.size, '\\n')\n",
    "    \n",
    "    \n",
    "    #APP LEVEL\n",
    "    print('# APP LEVEL')\n",
    "\n",
    "    #delete every outdated packet at first?\n",
    "    filtered = [];\n",
    "    for sec in dfapp[dfapp['onewaydelay'] < 100].seconds_offset:\n",
    "        filtered.append(sec);\n",
    "    \n",
    "    holeDetect = [];\n",
    "    for i, seconds in enumerate(filtered):\n",
    "        if i+1 < len(filtered):\n",
    "            t1 = filtered[i]\n",
    "            t2 = filtered[i+1]\n",
    "            if t2-t1 > 0.2:\n",
    "                holeDetect.append([filtered[i], filtered[i+1], (t2-t1)*1000])\n",
    "                #print((t2-t1)*1000)\n",
    "    \n",
    "    holeTimesApp = pd.Series(i[2] for i in holeDetect)\n",
    "    print('Hole sizes (ms) [filtered]: min=', holeTimesApp.min(), 'mean=', holeTimesApp.mean(), 'median=', holeTimesApp.median(), \n",
    "          'max=', holeTimesApp.max(), 'occurences=', holeTimesApp.size)\n",
    "    \n",
    "    holeDetect = [];\n",
    "    for i, seconds in enumerate(dfapp.seconds_offset):\n",
    "        if i+1 < len(dfapp.seconds_offset):\n",
    "            t1 = dfapp.seconds_offset[i]\n",
    "            t2 = dfapp.seconds_offset[i+1]\n",
    "            if t2-t1 > 0.2:\n",
    "                holeDetect.append([dfapp.seconds_offset[i], dfapp.seconds_offset[i+1], (t2-t1)*1000])\n",
    "                #print((t2-t1)*1000)\n",
    "    \n",
    "    holeTimesApp = pd.Series(i[2] for i in holeDetect)\n",
    "    print('Hole sizes (ms) [unfiltered]: min=', holeTimesApp.min(), 'mean=', holeTimesApp.mean(), 'median=', holeTimesApp.median(), \n",
    "          'max=', holeTimesApp.max(), 'occurences=', holeTimesApp.size, '\\n')"
   ]
  },
  {
   "cell_type": "code",
   "execution_count": null,
   "metadata": {
    "collapsed": true
   },
   "outputs": [],
   "source": [
    "#CCDFs\n",
    "# time between consecutive msgs (should be under the deadline)\n",
    "for f in glob.iglob('./*20191203*/', recursive=True): # /*directoryRegExp*/ to reduce output (long runtime)\n",
    "    dfapp = pd.read_csv(f+'serverAppOutput', delim_whitespace=True ,names = \n",
    "                                    ['seconds_offset', 'streamid', 'length', 'msg_number', 'onewaydelay'])\n",
    "    dfstream = pd.read_csv(f+'serverStreamOutput', delim_whitespace=True ,names = \n",
    "                                    ['seconds_offset', 'streamid', 'byte_offset', 'length', 'msg_number', 'onewaydelay'])\n",
    "\n",
    "    title=f\n",
    "    del dfapp['length']\n",
    "    print(f)\n",
    "    \n",
    "    #compute the time between two consecutive packets\n",
    "    dfapp.sort_values(by='msg_number')\n",
    "    dfapp['ms_offset'] = dfapp.seconds_offset.apply(lambda x: x * 1000) # from s to ms\n",
    "    #print(dfapp)\n",
    "    \n",
    "    i = dfapp.ms_offset[0];\n",
    "    timeBetween = [];\n",
    "    for j in dfapp['ms_offset']:\n",
    "        timeBetween.append(j-i)\n",
    "        i = j\n",
    "        \n",
    "    dfapp['timeBetweenMsgs'] = timeBetween\n",
    "    sortedTimesBetweenMsgs = dfapp['timeBetweenMsgs'].sort_values()\n",
    "    #print(sortedTimesBetweenMsgs)\n",
    "    #print(dfapp.sort_values(by='timeBetweenMsgs'))\n",
    "    \n",
    "    #build the CDF\n",
    "    cum_dist = np.linspace(1.,0.,len(sortedTimesBetweenMsgs))\n",
    "    cdf = pd.Series(cum_dist, index=sortedTimesBetweenMsgs)\n",
    "    fig = plt.figure() #this line makes a plot for every file\n",
    "    fig = cdf.plot(color='r', linestyle=':', drawstyle='steps')\n",
    "    \n",
    "    #fig.text(sortedRetrans.max()*0.75, 0.9, num_retrans, horizontalalignment='center', verticalalignment='center')\n",
    "\n",
    "    fig.set_xlabel('Time between packets (ms)')\n",
    "    #fig.set_yscale('log')\n",
    "    plt.tight_layout()\n",
    "    plt.savefig(f+\"ccdf_timeBetweenMsgs.pdf\")"
   ]
  },
  {
   "cell_type": "code",
   "execution_count": null,
   "metadata": {
    "collapsed": true
   },
   "outputs": [],
   "source": [
    "#CCDFs\n",
    "# time between actual msgs arrival and perfect arrical time\n",
    "for f in glob.iglob('./*20191203*/', recursive=True): # /*directoryRegExp*/ to reduce output (long runtime)\n",
    "    dfapp = pd.read_csv(f+'serverAppOutput', delim_whitespace=True ,names = \n",
    "                                    ['seconds_offset', 'streamid', 'length', 'msg_number', 'onewaydelay'])\n",
    "    dfstream = pd.read_csv(f+'serverStreamOutput', delim_whitespace=True ,names = \n",
    "                                    ['seconds_offset', 'streamid', 'byte_offset', 'length', 'msg_number', 'onewaydelay'])\n",
    "\n",
    "    title=f\n",
    "    print(f)\n",
    "    del dfapp['length']\n",
    "    \n",
    "    #compute the time between actual arrival time and perfect arrival time\n",
    "    dfapp.sort_values(by='msg_number')\n",
    "    \n",
    "    #starttime = dfapp.seconds_offset[0] - 0.1\n",
    "    #print(starttime)\n",
    "    \n",
    "    dfapp['ms_offset'] = dfapp.seconds_offset.apply(lambda x: x * 1000) # from s to ms\n",
    "    dfapp['perfectTimeDeviation'] = dfapp.ms_offset - dfapp.msg_number * 100\n",
    "    #print(dfapp)\n",
    "\n",
    "    sortedTimeDeviation = dfapp['perfectTimeDeviation'].sort_values()\n",
    "    #print(sortedTimeDeviation)\n",
    "    #print(dfapp)\n",
    "    \n",
    "    #build the CDF\n",
    "    cum_dist = np.linspace(1.,0.,len(sortedTimeDeviation))\n",
    "    cdf = pd.Series(cum_dist, index=sortedTimeDeviation)\n",
    "    fig = plt.figure() #this line makes a plot for every file\n",
    "    fig = cdf.plot(color='r', linestyle=':', drawstyle='steps')\n",
    "    \n",
    "    #fig.text(sortedRetrans.max()*0.75, 0.9, num_retrans, horizontalalignment='center', verticalalignment='center')\n",
    "\n",
    "    fig.set_xlabel('Time between actual arrival \\n and perfect arrival time (ms)')\n",
    "    plt.tight_layout()\n",
    "    \n",
    "    #plt.savefig(f+\"ccdf_perfectTimeDeviation.pdf\")\n",
    "    \n",
    "    fig.set_yscale('log')\n",
    "    plt.savefig(f+\"all_ccdf_perfectTimeDeviation_ylog.pdf\")"
   ]
  },
  {
   "cell_type": "code",
   "execution_count": null,
   "metadata": {
    "collapsed": true
   },
   "outputs": [],
   "source": []
  },
  {
   "cell_type": "code",
   "execution_count": null,
   "metadata": {
    "collapsed": true
   },
   "outputs": [],
   "source": [
    "#PING: single experiment\n",
    "#SCATTERPLOT - PING + rtt values over time\n",
    "'''\n",
    "for f in glob.iglob('./*1016-*/*firstKPIs', recursive=True): # /*directoryRegExp*/ to reduce output (long runtime)\n",
    "    df = pd.read_csv(f, delim_whitespace=True, names = ['seconds_offset', 'cwin', 'bytes-in-flight', 'nb_ret', \n",
    "                                                        'rtt_min', 'current_rtt', 'send_time','reception_time', \n",
    "                                                        'ack_delay', 'srtt', 'rtt_var', 'state'])\n",
    "                                                        # KPIs FROM BEFORE 18.10.2019!\n",
    "                                                        \n",
    "    #dping = pd.read_csv('./20191015-1314_1hr_ping/20191015-1314_client_ping_grep', delim_whitespace=True, \n",
    "                        names = ['seconds_offset', 'ping_number', 'ping_rtt'])\n",
    "    \n",
    "    df.current_rtt = df.current_rtt.apply(lambda x: x / 1000) #from us to ms\n",
    "    df.srtt = df.srtt.apply(lambda x: x / 1000)\n",
    "    title=f\n",
    "    print(f)\n",
    "    \n",
    "    print(df.current_rtt.mean(),\n",
    "          df.srtt.mean(),\n",
    "          dping.ping_rtt.mean())\n",
    "    \n",
    "    \n",
    "    fig = dping.plot(x=\"ping_number\", y=\"ping_rtt\", kind='scatter', color=\"DarkBlue\", s=0.01)\n",
    "    x = df.seconds_offset\n",
    "    y1 = df.current_rtt\n",
    "    fig.plot(x,y1,'r:') # more examples = 'b:' 'k:' 'r--'\n",
    "    y2 = df.srtt\n",
    "    fig.plot(x,y2, 'y:')\n",
    "\n",
    "    axes = plt.gca()\n",
    "    fig.legend(['Current RTT', 'Smoothed RTT', 'Ping RTT'])\n",
    "    fig.set_xlabel('Runtime (seconds)')\n",
    "    lines = fig.set_ylabel('Time (ms)')\n",
    "    plt.tight_layout()\n",
    "    plt.savefig(f+\"_timing+ping.pdf\")\n",
    "    \n",
    "    axes.set_ylim([0,250])\n",
    "    #axes.set_xlim([-5,605])\n",
    "    plt.savefig(f+\"_timing+ping_limit.pdf\")\n",
    "'''"
   ]
  },
  {
   "cell_type": "code",
   "execution_count": null,
   "metadata": {
    "collapsed": true
   },
   "outputs": [],
   "source": [
    "#WiFi vs ETH\n",
    "#BOXPLOT - application RTT (current rtt)\n",
    "dfe100 = pd.read_csv('./analysis_wifi-vs-eth/eth_100ms_36k-msgs/firstKPIs', delim_whitespace=True, names = ['seconds_offset', 'cwin', 'bytes-in-flight', 'nb_ret', \n",
    "                                                        'rtt_min', 'current_rtt', 'send_time','reception_time', \n",
    "                                                        'current_ackdelay', 'srtt', 'rtt_var', 'max_ackdelay', 'state']) \n",
    "dfe200 = pd.read_csv('./analysis_wifi-vs-eth/eth_200ms_36k-msgs/firstKPIs', delim_whitespace=True, names = ['seconds_offset', 'cwin', 'bytes-in-flight', 'nb_ret', \n",
    "                                                        'rtt_min', 'current_rtt', 'send_time','reception_time', \n",
    "                                                        'current_ackdelay', 'srtt', 'rtt_var', 'max_ackdelay', 'state'])\n",
    "dfe500 = pd.read_csv('./analysis_wifi-vs-eth/eth_500ms_36k-msgs/firstKPIs', delim_whitespace=True, names = ['seconds_offset', 'cwin', 'bytes-in-flight', 'nb_ret', \n",
    "                                                        'rtt_min', 'current_rtt', 'send_time','reception_time', \n",
    "                                                        'current_ackdelay', 'srtt', 'rtt_var', 'max_ackdelay', 'state'])\n",
    "dfw100 = pd.read_csv('./analysis_wifi-vs-eth/wifi_100ms_36k-msgs/firstKPIs', delim_whitespace=True, names = ['seconds_offset', 'cwin', 'bytes-in-flight', 'nb_ret', \n",
    "                                                        'rtt_min', 'current_rtt', 'send_time','reception_time', \n",
    "                                                        'current_ackdelay', 'srtt', 'rtt_var', 'max_ackdelay', 'state'])\n",
    "dfw200 = pd.read_csv('./analysis_wifi-vs-eth/wifi_200ms_36k-msgs/firstKPIs', delim_whitespace=True, names = ['seconds_offset', 'cwin', 'bytes-in-flight', 'nb_ret', \n",
    "                                                        'rtt_min', 'current_rtt', 'send_time','reception_time', \n",
    "                                                        'current_ackdelay', 'srtt', 'rtt_var', 'max_ackdelay', 'state'])\n",
    "dfw500 = pd.read_csv('./analysis_wifi-vs-eth/wifi_500ms_36k-msgs/firstKPIs', delim_whitespace=True, names = ['seconds_offset', 'cwin', 'bytes-in-flight', 'nb_ret', \n",
    "                                                        'rtt_min', 'current_rtt', 'send_time','reception_time', \n",
    "                                                        'current_ackdelay', 'srtt', 'rtt_var', 'max_ackdelay', 'state'])\n",
    "\n",
    "dfe100 = dfe100[dfe100.index % 2 != 0]\n",
    "dfe100 = dfe100[dfe100.state == 15]\n",
    "dfe200 = dfe200[dfe200.index % 2 != 0]\n",
    "dfe200 = dfe200[dfe200.state == 15]\n",
    "dfe500 = dfe500[dfe500.index % 2 != 0]\n",
    "dfe500 = dfe500[dfe500.state == 15]\n",
    "\n",
    "dfw100 = dfw100[dfw100.index % 2 != 0]\n",
    "dfw100 = dfw100[dfw100.state == 15]\n",
    "dfw200 = dfw200[dfw200.index % 2 != 0]\n",
    "dfw200 = dfw200[dfw200.state == 15]\n",
    "dfw500 = dfw500[dfw500.index % 2 != 0]\n",
    "dfw500 = dfw500[dfw500.state == 15]\n",
    "\n",
    "df = pd.DataFrame()\n",
    "df['dfe100'] = dfe100.current_rtt.apply(lambda x: x / 1000) #from us to ms\n",
    "df['dfe200'] = dfe200.current_rtt.apply(lambda x: x / 1000) #from us to ms\n",
    "df['dfe500'] = dfe500.current_rtt.apply(lambda x: x / 1000) #from us to ms\n",
    "df['dfw100'] = dfw100.current_rtt.apply(lambda x: x / 1000) #from us to ms\n",
    "df['dfw200'] = dfw200.current_rtt.apply(lambda x: x / 1000) #from us to ms\n",
    "df['dfw500'] = dfw500.current_rtt.apply(lambda x: x / 1000) #from us to ms\n",
    "\n",
    "print('Ethernet 100ms: ', df.dfe100.min(), '(min) ', df.dfe100.max(), '(max) ', df.dfe100.median(), '(median) ', '\\n',\n",
    "      'Ethernet 200ms: ', df.dfe100.min(), '(min) ', df.dfe200.max(), '(max) ', df.dfe200.median(), '(median) ', '\\n',\n",
    "      'Ethernet 500ms: ', df.dfe100.min(), '(min) ', df.dfe500.max(), '(max) ', df.dfe500.median(), '(median) ', '\\n',\n",
    "      'WiFi 100ms: ', df.dfw100.min(), '(min) ', df.dfw100.max(), '(max) ', df.dfw100.median(), '(median) ', '\\n',\n",
    "      'WiFi 200ms: ', df.dfw200.min(), '(min) ', df.dfw200.max(), '(max) ', df.dfw200.median(), '(median) ', '\\n',\n",
    "      'WiFi 500ms: ', df.dfw500.min(), '(min) ', df.dfw500.max(), '(max) ', df.dfw500.median(), '(median) ', '\\n')\n",
    "\n",
    "\n",
    "#print(df.to_string())\n",
    "\n",
    "fig = df.boxplot(showfliers=True, flierprops={'markersize': 1, 'marker': 'x',\n",
    "                                              'markerfacecolor': 'none', 'markeredgecolor': 'black'}) \n",
    "                #showfliers=False -> circles outside of the boxplot\n",
    "    \n",
    "fig.set_yscale('log')\n",
    "\n",
    "plt.xticks([1, 2, 3, 4, 5, 6], ['100', '200\\nEthernet\\n(interval in ms)', '500', '100', '200\\nWiFi\\n(interval in ms)', '500'])\n",
    "fig.set_ylabel('RTT (ms)')\n",
    "plt.tight_layout()\n",
    "plt.savefig(\"./analysis_wifi-vs-eth/rtt_boxplots_wifi-vs-eth_100-200-500ms_ylog_fliers.pdf\")\n"
   ]
  },
  {
   "cell_type": "code",
   "execution_count": null,
   "metadata": {
    "collapsed": true
   },
   "outputs": [],
   "source": [
    "#WiFi vs ETH\n",
    "#BOXPLOT - application RTT (current rtt)\n",
    "\n",
    "dfw200 = pd.read_csv('./eth-vs-wifi/20191025-1451_200ms-5min_wifi_firstKPIs', delim_whitespace=True, names = ['seconds_offset', 'cwin', 'bytes-in-flight', 'nb_ret', \n",
    "                                                        'rtt_min', 'current_rtt', 'send_time','reception_time', \n",
    "                                                        'current_ackdelay', 'srtt', 'rtt_var', 'max_ackdelay', 'state'])\n",
    "dfw200_long = pd.read_csv('./eth-vs-wifi/20191023-1635_200ms-2hr_wifi_firstKPIs', delim_whitespace=True, names = ['seconds_offset', 'cwin', 'bytes-in-flight', 'nb_ret', \n",
    "                                                        'rtt_min', 'current_rtt', 'send_time','reception_time', \n",
    "                                                        'current_ackdelay', 'srtt', 'rtt_var', 'max_ackdelay', 'state'])\n",
    "dfe200 = pd.read_csv('./eth-vs-wifi/20191029-1406_200ms-5min_eth_firstKPIs', delim_whitespace=True, names = ['seconds_offset', 'cwin', 'bytes-in-flight', 'nb_ret', \n",
    "                                                        'rtt_min', 'current_rtt', 'send_time','reception_time', \n",
    "                                                        'current_ackdelay', 'srtt', 'rtt_var', 'max_ackdelay', 'state']) \n",
    "\n",
    "df = pd.DataFrame()\n",
    "df['dfw200_long'] = dfw200_long.current_rtt.apply(lambda x: x / 1000) #from us to ms\n",
    "df['dfw200'] = dfw200.current_rtt.apply(lambda x: x / 1000) #from us to ms\n",
    "df['dfe200'] = dfe200.current_rtt.apply(lambda x: x / 1000) #from us to ms\n",
    "\n",
    "print(df.to_string())\n",
    "\n",
    "fig = df.boxplot()\n",
    "\n",
    "plt.xticks([1, 2, 3], ['WiFi 200ms', 'WiFi 200ms', 'Eth 200ms'])\n",
    "fig.set_ylabel('Time (ms)')\n",
    "plt.tight_layout()\n",
    "plt.savefig(\"./eth-vs-wifi/rtt_boxplots_200ms.pdf\")\n"
   ]
  },
  {
   "cell_type": "code",
   "execution_count": null,
   "metadata": {
    "collapsed": true,
    "scrolled": false
   },
   "outputs": [],
   "source": [
    "#SCATTERPLOT - rtt values over time\n",
    "for f in glob.iglob('./*1023-*200ms*/*firstKPIs', recursive=True): # /*directoryRegExp*/ to reduce output (long runtime)\n",
    "    df = pd.read_csv(f, delim_whitespace=True, names = ['seconds_offset', 'cwin', 'bytes-in-flight', 'nb_ret', \n",
    "                                                        'rtt_min', 'current_rtt', 'send_time','reception_time', \n",
    "                                                        'current_ackdelay', 'srtt', 'rtt_var', 'max_ackdelay', 'state']) \n",
    "                                                        #extraction of KPI: update from 18.10.19\n",
    "        \n",
    "    df.current_rtt = df.current_rtt.apply(lambda x: x / 1000) #from us to ms\n",
    "    df.srtt = df.srtt.apply(lambda x: x / 1000)\n",
    "    df.rtt_min = df.rtt_min.apply(lambda x: x / 1000)\n",
    "    title=f\n",
    "    print(f)\n",
    "    \n",
    "    print(df.current_rtt.mean(),\n",
    "          df.srtt.mean())\n",
    "    \n",
    "    fig = df.plot(x=\"seconds_offset\", y=\"rtt_min\", kind='scatter', color=\"DarkBlue\", s=0.01)\n",
    "    x = df.seconds_offset\n",
    "    y2 = df.srtt\n",
    "    fig.plot(x,y2, 'y.')\n",
    "    y1 = df.current_rtt\n",
    "    fig.plot(x,y1, 'r.') # more examples = 'b:' 'k:' 'r--'\n",
    "\n",
    "    axes = plt.gca()\n",
    "    fig.legend(['Current RTT', 'Smoothed RTT', 'min RTT'])\n",
    "    fig.set_xlabel('Runtime (seconds)')\n",
    "    lines = fig.set_ylabel('Time (ms)')\n",
    "    plt.tight_layout()\n",
    "    plt.savefig(f+\"_timing.pdf\")\n",
    "    \n",
    "    axes.set_ylim([0,25])\n",
    "    #axes.set_xlim([-5,1000])\n",
    "    plt.savefig(f+\"_timing_limit.pdf\")"
   ]
  },
  {
   "cell_type": "code",
   "execution_count": null,
   "metadata": {
    "collapsed": true
   },
   "outputs": [],
   "source": [
    "#BOXPLOTS - rtt values (Current RTT + Smoothed RTT)\n",
    "# 1 plot for x files\n",
    "for f in glob.iglob('./*1018-*/*firstKPIs', recursive=True): # /*directoryRegExp*/ to reduce output (long runtime)\n",
    "    df = pd.read_csv(f, delim_whitespace=True, names = ['seconds_offset', 'cwin', 'bytes-in-flight', 'nb_ret', \n",
    "                                                        'rtt_min', 'current_rtt', 'send_time','reception_time', \n",
    "                                                        'current_ackdelay', 'srtt', 'rtt_var', 'max_ackdelay', 'state']) \n",
    "                                                        #extraction of KPI: update from 18.10.19\n",
    "    df.current_rtt = df.current_rtt.apply(lambda x: x / 1000) #from us to ms\n",
    "    df.srtt = df.srtt.apply(lambda x: x / 1000)\n",
    "    title=f\n",
    "    print(f)\n",
    "    \n",
    "    #delete unnecessary data\n",
    "    df.drop(['seconds_offset', 'cwin', 'bytes-in-flight', 'nb_ret', 'rtt_min', \n",
    "             'send_time', 'reception_time', 'current_ackdelay', 'rtt_var','max_ackdelay', 'state'], axis=1, inplace=True)\n",
    "    \n",
    "    #delete initial values\n",
    "    df.drop(df.index[0], inplace=True)\n",
    "    \n",
    "    fig = plt.figure() #this line makes a plot for every file\n",
    "    fig = df.boxplot()\n",
    "    plt.xticks([1, 2], ['Current RTT', 'Smoothed RTT'])\n",
    "    fig.set_ylabel('Time (ms)')\n",
    "    plt.tight_layout()\n",
    "    plt.savefig(f+\"_timing_boxplots.pdf\")"
   ]
  },
  {
   "cell_type": "code",
   "execution_count": null,
   "metadata": {
    "collapsed": true
   },
   "outputs": [],
   "source": [
    "#SCATTERPLOT - congestion window\n",
    "for f in glob.iglob('./*1018-*/*firstKPIs', recursive=True): # /*directoryRegExp*/ to reduce output (long runtime)\n",
    "    df = pd.read_csv(f, delim_whitespace=True, names = ['seconds_offset', 'cwin', 'bytes-in-flight', 'nb_ret', \n",
    "                                                        'rtt_min', 'current_rtt', 'send_time','reception_time', \n",
    "                                                        'current_ackdelay', 'srtt', 'rtt_var', 'max_ackdelay', 'state']) \n",
    "                                                        #extraction of KPI: update from 18.10.19\n",
    "    title=f\n",
    "    print(f)\n",
    "    \n",
    "    fig = df.plot(x=\"seconds_offset\", y=\"cwin\", marker=\",\", markersize=\"0.01\", color=\"DarkBlue\", linestyle=\"None\")\n",
    "\n",
    "    axes = plt.gca()\n",
    "    #axes.set_ylim([0,20])\n",
    "    #axes.set_xlim([-5,605])\n",
    "    axes.get_legend().remove()\n",
    "    \n",
    "    fig.set_xlabel('Runtime (seconds)')\n",
    "    lines = fig.set_ylabel('Congestion Window')\n",
    "    plt.tight_layout()\n",
    "    plt.savefig(f+\"_cwin.pdf\")\n",
    "    \n",
    "    fig.set_yscale('log')\n",
    "    plt.savefig(f+\"_cwin_ylog.pdf\")"
   ]
  },
  {
   "cell_type": "code",
   "execution_count": null,
   "metadata": {
    "collapsed": true
   },
   "outputs": [],
   "source": [
    "#SCATTERPLOT retransmissions over time\n",
    "for f in glob.iglob('./*1018-*/*firstKPIs', recursive=True): # /*directoryRegExp*/ to reduce output (long runtime)\n",
    "    df = pd.read_csv(f, delim_whitespace=True, names = ['seconds_offset', 'cwin', 'bytes-in-flight', 'nb_ret', \n",
    "                                                        'rtt_min', 'current_rtt', 'send_time','reception_time', \n",
    "                                                        'current_ackdelay', 'srtt', 'rtt_var', 'max_ackdelay', 'state']) \n",
    "                                                        #extraction of KPI: update from 18.10.19\n",
    "    title=f\n",
    "    print(f)\n",
    "    \n",
    "    df.drop_duplicates(subset=\"nb_ret\", keep=\"first\", inplace=True)\n",
    "    df.drop(df.index[0], inplace=True)\n",
    "    df.state = df.state.apply(lambda x: x - 14)\n",
    "    \n",
    "    num_retrans = 'Retransmissions = '+ str(df.state.count())\n",
    "    print(num_retrans, \"\\n\")\n",
    "    \n",
    "    fig = df.plot(x=\"seconds_offset\", y=\"state\", marker=\"x\", markersize=\"0.1\", color=\"DarkBlue\", linestyle=\"None\")\n",
    "    \n",
    "    fig.text(df['seconds_offset'].max()*0.75, 0.95, num_retrans, horizontalalignment='center', verticalalignment='center')\n",
    "    fig.set_xlabel('Runtime (seconds)')\n",
    "    lines = fig.set_ylabel('Retransmission=1')\n",
    "    plt.tight_layout()\n",
    "    plt.savefig(f+\"_retransOverTime.pdf\")\n"
   ]
  },
  {
   "cell_type": "code",
   "execution_count": null,
   "metadata": {
    "collapsed": true
   },
   "outputs": [],
   "source": [
    "# CUMULATIVE DISTRIBUTION FUNCTION - time between retransmissions\n",
    "# 1 plot for x files\n",
    "for f in glob.iglob('./*1018-*/*firstKPIs', recursive=True): # /*directoryRegExp*/ to reduce output (long runtime)\n",
    "    df = pd.read_csv(f, delim_whitespace=True, names = ['seconds_offset', 'cwin', 'bytes-in-flight', 'nb_ret', \n",
    "                                                        'rtt_min', 'current_rtt', 'send_time','reception_time', \n",
    "                                                        'current_ackdelay', 'srtt', 'rtt_var', 'max_ackdelay', 'state']) \n",
    "                                                        #extraction of KPI: update from 18.10.19\n",
    "    title=f\n",
    "    \n",
    "    #delete the normal (no-retransmission) packets\n",
    "    df.drop_duplicates(subset=\"nb_ret\", keep=\"first\", inplace=True)\n",
    "    df.drop(df.index[0], inplace=True)\n",
    "    df.state = df.state.apply(lambda x: x - 14)\n",
    "    \n",
    "    num_retrans = 'Retransmissions = '+ str(df.seconds_offset.count())\n",
    "    print(num_retrans, \"\\n\")\n",
    "    \n",
    "    #compute the time between retransmissions\n",
    "    i = 0;\n",
    "    timeBetween = [];\n",
    "    for j in df['seconds_offset']:\n",
    "        timeBetween.append(j-i)\n",
    "        i = j\n",
    "        \n",
    "    df['timeBetween'] = timeBetween\n",
    "    sortedRetrans = df['timeBetween'].sort_values()\n",
    "    #print(sortedRetrans)\n",
    "    #print(df.seconds_offset)\n",
    "    \n",
    "    #build the CDF\n",
    "    cum_dist = np.linspace(0.,1.,len(sortedRetrans))\n",
    "    cdf = pd.Series(cum_dist, index=sortedRetrans)\n",
    "    fig = plt.figure() #this line makes a plot for every file\n",
    "    fig = cdf.plot(color='r', linestyle=':', drawstyle='steps')\n",
    "    \n",
    "    fig.text(sortedRetrans.max()*0.75, 0, num_retrans, horizontalalignment='center', verticalalignment='center')\n",
    "\n",
    "    fig.set_xlabel('Time between retransmissions (s)')\n",
    "    plt.tight_layout()\n",
    "    plt.savefig(f+\"_cdf_retransTimeBetween.pdf\")\n"
   ]
  },
  {
   "cell_type": "code",
   "execution_count": null,
   "metadata": {
    "collapsed": true
   },
   "outputs": [],
   "source": [
    "# COMPLEMENTARY CUMULATIVE DISTRIBUTION FUNCTION - time between retransmissions\n",
    "# 1 plot for x files\n",
    "for f in glob.iglob('./*1018-*/*firstKPIs', recursive=True): # /*directoryRegExp*/ to reduce output (long runtime)\n",
    "    df = pd.read_csv(f, delim_whitespace=True, names = ['seconds_offset', 'cwin', 'bytes-in-flight', 'nb_ret', \n",
    "                                                        'rtt_min', 'current_rtt', 'send_time','reception_time', \n",
    "                                                        'current_ackdelay', 'srtt', 'rtt_var', 'max_ackdelay', 'state']) \n",
    "                                                        #extraction of KPI: update from 18.10.19\n",
    "    title=f\n",
    "    \n",
    "    #delete the normal (no-retransmission) packets\n",
    "    df.drop_duplicates(subset=\"nb_ret\", keep=\"first\", inplace=True)\n",
    "    df.drop(df.index[0], inplace=True)\n",
    "    df.state = df.state.apply(lambda x: x - 14)\n",
    "    \n",
    "    num_retrans = 'Retransmissions = '+ str(df.seconds_offset.count())\n",
    "    print(num_retrans, \"\\n\")\n",
    "    \n",
    "    #compute the time between retransmissions\n",
    "    i = 0;\n",
    "    timeBetween = [];\n",
    "    for j in df['seconds_offset']:\n",
    "        timeBetween.append(j-i)\n",
    "        i = j\n",
    "        \n",
    "    df['timeBetween'] = timeBetween\n",
    "    sortedRetrans = df['timeBetween'].sort_values()\n",
    "    #print(sortedRetrans)\n",
    "    #print(df.seconds_offset)\n",
    "    \n",
    "    #build the CDF\n",
    "    cum_dist = np.linspace(1.,0.,len(sortedRetrans))\n",
    "    cdf = pd.Series(cum_dist, index=sortedRetrans)\n",
    "    fig = plt.figure() #this line makes a plot for every file\n",
    "    fig = cdf.plot(color='r', linestyle=':', drawstyle='steps')\n",
    "    \n",
    "    fig.text(sortedRetrans.max()*0.75, 0.9, num_retrans, horizontalalignment='center', verticalalignment='center')\n",
    "\n",
    "    fig.set_xlabel('Time between retransmissions (s)')\n",
    "    plt.tight_layout()\n",
    "    plt.savefig(f+\"_ccdf_retransTimeBetween.pdf\")\n",
    "    \n",
    "    fig.set_yscale('log')\n",
    "    plt.savefig(f+\"_ccdf_retransTimeBetween_ylog.pdf\")\n",
    "    \n",
    "    axes = plt.gca() \n",
    "    axes.set_xlim([0,100])\n",
    "    fig.text(60, 0.9, num_retrans, horizontalalignment='center', verticalalignment='center')\n",
    "    plt.savefig(f+\"_ccdf_retransTimeBetween_yloglim.pdf\")"
   ]
  },
  {
   "cell_type": "code",
   "execution_count": null,
   "metadata": {
    "collapsed": true
   },
   "outputs": [],
   "source": [
    "#SCATTERPLOT - rtt values over time\n",
    "#COMPARISON to TIMING VALUES\n",
    "for f in glob.iglob('./*1023-*200*/*firstKPIs', recursive=True): # /*directoryRegExp*/ to reduce output (long runtime)\n",
    "    df = pd.read_csv(f, delim_whitespace=True, names = ['seconds_offset', 'cwin', 'bytes-in-flight', 'nb_ret', \n",
    "                                                        'rtt_min', 'current_rtt', 'send_time','reception_time', \n",
    "                                                        'current_ackdelay', 'srtt', 'rtt_var', 'max_ackdelay', 'state']) \n",
    "                                                        #extraction of KPI: update from 18.10.19\n",
    "    #calculate the comparison value\n",
    "    df['recept_send'] = df.reception_time - df.send_time\n",
    "    df['deviation'] = df.recept_send - df.current_rtt\n",
    "    df = df[df.state == 15] #only values after successful start are comparable (earlier, there is no send or reception time set)\n",
    "    \n",
    "    df.current_rtt = df.current_rtt.apply(lambda x: x / 1000) #from us to ms\n",
    "    df.srtt = df.srtt.apply(lambda x: x / 1000)\n",
    "    df.rtt_min = df.rtt_min.apply(lambda x: x / 1000)\n",
    "    df.recept_send = df.recept_send.apply(lambda x: x / 1000)\n",
    "    df.deviation = df.deviation.apply(lambda x: x / 1000)\n",
    "    df.current_ackdelay = df.current_ackdelay.apply(lambda x: x / 1000)\n",
    "    df.max_ackdelay = df.max_ackdelay.apply(lambda x: x / 1000)\n",
    "    \n",
    "    title=f\n",
    "    print(f)\n",
    "    \n",
    "    print('Current RTT mean: ' + str(df.current_rtt.mean()) + '\\n',\n",
    "          'SRTT mean: ' + str(df.srtt.mean()) + '\\n',\n",
    "         'Calculated reception-send mean: ' + str(df.recept_send.mean()) + '\\n',\n",
    "         'Deviation mean: ' + str(df.deviation.mean()) + '\\n')\n",
    "    \n",
    "    standard = 0; #1 = standard plot over time\n",
    "                  #0 = deviation plotted over time\n",
    "    \n",
    "    if(standard):\n",
    "        fig = df.plot(x=\"seconds_offset\", y=\"rtt_min\", kind='scatter', color=\"DarkBlue\", s=0.01)\n",
    "        x = df.seconds_offset\n",
    "        y1 = df.current_rtt\n",
    "        fig.plot(x,y1,'r:') # more examples = 'b:' 'k:' 'r--'\n",
    "        y2 = df.recept_send\n",
    "        fig.plot(x,y2, 'y:')\n",
    "\n",
    "        axes = plt.gca()\n",
    "        fig.legend(['Current RTT', 'recept minus send', 'min RTT'])\n",
    "        fig.set_xlabel('Runtime (seconds)')\n",
    "        lines = fig.set_ylabel('Time (ms)')\n",
    "        plt.tight_layout()\n",
    "        plt.savefig(f+\"_timing-comparison.pdf\")\n",
    "    \n",
    "    #Plotting only deviation values\n",
    "    else:\n",
    "        df['deviation'] = df['deviation'].replace(0.0, np.nan) #set all 0.0 to NaN -> not plotted\n",
    "        df.dropna(inplace=True)\n",
    "        print(df[['seconds_offset', 'current_rtt', 'recept_send', \n",
    "                  'deviation', 'current_ackdelay', 'max_ackdelay']].to_string(index=False))\n",
    "\n",
    "        fig = df.plot(x=\"seconds_offset\", y=\"deviation\", kind='scatter', color=\"DarkBlue\", s=0.01)\n",
    "        x = df.seconds_offset\n",
    "        \n",
    "        num_deviations = 'Differences = ' + str(df.deviation.count())\n",
    "        print(num_deviations, \"\\n\")\n",
    "        #fig.text(df.seconds_offset.max()*0.9, df.deviation.max()*0.9, num_deviations, horizontalalignment='center', verticalalignment='center')\n",
    "\n",
    "        axes = plt.gca()\n",
    "        fig.legend(['Deviation'])\n",
    "        fig.set_xlabel('Runtime (seconds)  [' + num_deviations + ']')\n",
    "        lines = fig.set_ylabel('Time (ms)')\n",
    "        plt.tight_layout()\n",
    "        plt.savefig(f+\"_timing-deviation_cleaned.pdf\")"
   ]
  },
  {
   "cell_type": "code",
   "execution_count": null,
   "metadata": {
    "collapsed": true
   },
   "outputs": [],
   "source": [
    "#SINGLE EXPERIMENT\n",
    "# Compute the time from pcap files\n",
    "# Comparison with current_rtt from application\n",
    "\n",
    "for f in glob.iglob('./*1029-08*/*client_filter_pcap', recursive=True): # /*directoryRegExp*/ to reduce output (long runtime)\n",
    "    df = pd.read_csv(f, delim_whitespace=True, float_precision='round_trip', names = ['seconds_offset', 'framenumber', 'datasize']) \n",
    "                                                        #extraction of PCAP: update from 28.10.19\n",
    "    title=f\n",
    "    print(f)\n",
    "    \n",
    "    dfserver = pd.read_csv('./20191029-0810_500ms-5min_pcap2_eth/server_filter_pcap', delim_whitespace=True, float_precision='round_trip', \n",
    "                                                                          names = ['seconds_offset', 'framenumber', 'datasize'])\n",
    "    \n",
    "    #TODO: Cut firstKPIs short to cover only the same packets as in filtered PCAP\n",
    "    dfcomp = pd.read_csv('./20191029-0810_500ms-5min_pcap2_eth/firstKPIs', delim_whitespace=True, \n",
    "                        names = ['seconds_offset', 'cwin', 'bytes-in-flight', 'nb_ret', \n",
    "                                 'rtt_min', 'current_rtt', 'send_time','reception_time', \n",
    "                                 'current_ackdelay', 'srtt', 'rtt_var', 'max_ackdelay', 'state'])\n",
    "    \n",
    "    #set the indices\n",
    "    i=0\n",
    "    j=1\n",
    "    k=2\n",
    "    \n",
    "    rtt1 = []\n",
    "    rtt2 = []\n",
    "    frameNumber = []\n",
    "    frameNumber1 = []\n",
    "    frameNumber2 = []\n",
    "    dataSize1 = []\n",
    "    dataSize2 = []\n",
    "    \n",
    "    \n",
    "    client2server = []\n",
    "    server2client = []\n",
    "    serverprocessingtime = []\n",
    "    \n",
    "    num_packets = df.seconds_offset.count()/3\n",
    "\n",
    "    #compute the pcap rtt's: first reply - request = rtt1, \n",
    "    #                        second reply - request = rtt2,\n",
    "    #                        server_receive - client_sent\n",
    "    for x in range(num_packets.astype(int)):\n",
    "        frameNumber.append(df.at[i, 'framenumber'])\n",
    "        rtt1.append(df.at[j, 'seconds_offset'] - df.at[i, 'seconds_offset'])\n",
    "        frameNumber1.append(df.at[j, 'framenumber'])\n",
    "        dataSize1.append(df.at[j, 'datasize'])\n",
    "        rtt2.append(df.at[k, 'seconds_offset'] - df.at[i, 'seconds_offset'])\n",
    "        frameNumber2.append(df.at[k, 'framenumber'])\n",
    "        dataSize2.append(df.at[k, 'datasize'])\n",
    "        \n",
    "        client2server.append(dfserver.at[i, 'seconds_offset'] - df.at[i, 'seconds_offset'])\n",
    "        serverprocessingtime.append(dfserver.at[j, 'seconds_offset'] - dfserver.at[i, 'seconds_offset'])\n",
    "        server2client.append(df.at[j, 'seconds_offset'] - dfserver.at[j, 'seconds_offset'])\n",
    "        \n",
    "        i=i+3\n",
    "        j=j+3\n",
    "        k=k+3\n",
    "        \n",
    "    \n",
    "    df2 = pd.DataFrame()\n",
    "    df2['frame'] = frameNumber\n",
    "    df2['app_rtt'] = dfcomp['current_rtt']\n",
    "    df2['clientrtt1'] = rtt1\n",
    "    #df2['frame+1'] = frameNumber1\n",
    "    #df2['size1'] = dataSize1\n",
    "    #df2['client_rtt2'] = rtt2\n",
    "    #df2['frame+2'] = frameNumber2\n",
    "    #df2['size2'] = dataSize2\n",
    "    \n",
    "    df2['client2server'] = client2server\n",
    "    df2['server2client'] = server2client\n",
    "    df2['serverprocessingtime'] = serverprocessingtime\n",
    "    \n",
    "    df2.app_rtt = df2.app_rtt.apply(lambda x: x / 1000) #from us to ms\n",
    "    df2.clientrtt1 = df2.clientrtt1.apply(lambda x: x * 1000) #from s to ms\n",
    "    #df2.client_rtt2 = df2.client_rtt2.apply(lambda x: x * 1000)\n",
    "    df2.client2server = df2.client2server.apply(lambda x: x * 1000)\n",
    "    df2.server2client = df2.server2client.apply(lambda x: x * 1000)\n",
    "    df2.serverprocessingtime = df2.serverprocessingtime.apply(lambda x: x * 1000)\n",
    "    \n",
    "    print(df2.to_string())\n",
    "    \n",
    "    fig = df2.plot(x=\"frame\", y=\"clientrtt1\", kind='line', color=\"DarkBlue\", linestyle=':')\n",
    "    \n",
    "    \n",
    "    fig.set_xlabel('packet number')\n",
    "    fig.set_ylabel('measured time (ms)')\n",
    "    plt.tight_layout()\n",
    "    plt.savefig(f+\"_analysis.pdf\")"
   ]
  },
  {
   "cell_type": "code",
   "execution_count": null,
   "metadata": {
    "collapsed": true,
    "scrolled": true
   },
   "outputs": [],
   "source": [
    "#iperf UDP\n",
    "\n",
    "dfserver = pd.read_csv('./iperf_tests/20191028-1019_udp/server_filter_pcap', delim_whitespace=True, float_precision='round_trip', \n",
    "                                                                          names = ['seconds_offset', 'framenumber', 'datasize'])\n",
    "dfclient = pd.read_csv('./iperf_tests/20191028-1019_udp/client_filter_pcap', delim_whitespace=True, float_precision='round_trip', \n",
    "                                                                          names = ['seconds_offset', 'framenumber', 'datasize'])\n",
    "\n",
    "client2server = []\n",
    "clienttime = []\n",
    "client_firstoffset = dfclient.at[0, 'seconds_offset']\n",
    "servertime = []\n",
    "\n",
    "for x in range(dfclient.seconds_offset.count()):\n",
    "    client2server.append(dfserver.at[x, 'seconds_offset'] - dfclient.at[x, 'seconds_offset'])\n",
    "    #clienttime.append(dfclient.at[x, 'seconds_offset'] - client_firstoffset)\n",
    "    #servertime.append(dfserver.at[x, 'seconds_offset'] - client_firstoffset)\n",
    "    \n",
    "\n",
    "df = pd.DataFrame()\n",
    "#df['client_time'] = clienttime\n",
    "#df['server_time'] = servertime\n",
    "df['client2server'] = client2server\n",
    "\n",
    "df.client2server = df.client2server.apply(lambda x: x * 1000) #from s to ms\n",
    "\n",
    "\n",
    "print(df.to_string())\n",
    "\n",
    "\n",
    "#fig = df.plot()\n",
    "\n",
    "#fig.set_xlabel('index')\n",
    "#fig.set_ylabel('measured time (ms)')\n",
    "#plt.tight_layout()\n",
    "#plt.savefig(\"./iperf_tests/20191028-1019_udp/client_filter_pcap_analysis.pdf\")"
   ]
  },
  {
   "cell_type": "code",
   "execution_count": null,
   "metadata": {
    "collapsed": true
   },
   "outputs": [],
   "source": [
    "#iperf TCP\n",
    "\n",
    "dfserver = pd.read_csv('./iperf_tests/20191029-1136_tcp/server_filter_pcap_acks', delim_whitespace=True, float_precision='round_trip', \n",
    "                                                                          names = ['seconds_offset', 'framenumber', 'rtt'])\n",
    "dfclient = pd.read_csv('./iperf_tests/20191029-1136_tcp/client_filter_pcap_acks', delim_whitespace=True, float_precision='round_trip', \n",
    "                                                                          names = ['seconds_offset', 'framenumber', 'rtt'])\n",
    "\n",
    "dfclient = dfclient.apply(lambda x: x * 1000) #from s to ms\n",
    "dfserver = dfserver.apply(lambda x: x * 1000)\n",
    "\n",
    "\n",
    "fig = dfclient.plot(y='rtt', use_index=True)\n",
    "#x = dfserver.index\n",
    "#y1 = dfserver.rtt\n",
    "#fig.plot(x,y1,'r:')\n",
    "\n",
    "fig.set_xlabel('index')\n",
    "fig.set_ylabel('measured time (ms)')\n",
    "plt.tight_layout()\n",
    "plt.savefig(\"./iperf_tests/20191029-1136_tcp/client_filter_pcap_analysis.pdf\")"
   ]
  },
  {
   "cell_type": "code",
   "execution_count": null,
   "metadata": {
    "collapsed": true
   },
   "outputs": [],
   "source": []
  }
 ],
 "metadata": {
  "kernelspec": {
   "display_name": "Python 3",
   "language": "python",
   "name": "python3"
  },
  "language_info": {
   "codemirror_mode": {
    "name": "ipython",
    "version": 3
   },
   "file_extension": ".py",
   "mimetype": "text/x-python",
   "name": "python",
   "nbconvert_exporter": "python",
   "pygments_lexer": "ipython3",
   "version": "3.6.1"
  }
 },
 "nbformat": 4,
 "nbformat_minor": 2
}
