{
 "cells": [
  {
   "cell_type": "code",
   "execution_count": 1,
   "metadata": {
    "collapsed": true
   },
   "outputs": [],
   "source": [
    "%matplotlib inline\n",
    "import matplotlib.pyplot as plt\n",
    "import numpy as np\n",
    "import pandas as pd\n",
    "import matplotlib\n",
    "import glob\n",
    "from math import sqrt\n",
    "SPINE_COLOR = 'gray'"
   ]
  },
  {
   "cell_type": "code",
   "execution_count": 2,
   "metadata": {
    "collapsed": true
   },
   "outputs": [],
   "source": [
    "def latexify(fig_width=None, fig_height=None, columns=1):\n",
    "    \"\"\"Set up matplotlib's RC params for LaTeX plotting.\n",
    "    Call this before plotting a figure.\n",
    "\n",
    "    Parameters\n",
    "    ----------\n",
    "    fig_width : float, optional, inches\n",
    "    fig_height : float,  optional, inches\n",
    "    columns : {1, 2}\n",
    "    \"\"\"\n",
    "\n",
    "    # code adapted from http://www.scipy.org/Cookbook/Matplotlib/LaTeX_Examples\n",
    "\n",
    "    # Width and max height in inches for IEEE journals taken from\n",
    "    # computer.org/cms/Computer.org/Journal%20templates/transactions_art_guide.pdf\n",
    "\n",
    "    assert(columns in [1,2])\n",
    "\n",
    "    if fig_width is None:\n",
    "        fig_width = 3.39 if columns==1 else 6.9 # width in inches\n",
    "\n",
    "    if fig_height is None:\n",
    "        golden_mean = (sqrt(5)-1.0)/2.0    # Aesthetic ratio\n",
    "        fig_height = fig_width*golden_mean # height in inches\n",
    "\n",
    "    MAX_HEIGHT_INCHES = 8.0\n",
    "    if fig_height > MAX_HEIGHT_INCHES:\n",
    "        print(\"WARNING: fig_height too large:\" + fig_height + \n",
    "              \"so will reduce to\" + MAX_HEIGHT_INCHES + \"inches.\")\n",
    "        fig_height = MAX_HEIGHT_INCHES\n",
    "\n",
    "    params = {'backend': 'pdf',\n",
    "              'text.latex.preamble': ['\\\\usepackage{gensymb}'],\n",
    "              'axes.labelsize': 8, # fontsize for x and y labels (was 10)\n",
    "              'axes.titlesize': 8,\n",
    "              'font.size': 8,       #'text.fontsize': 8, # was 10\n",
    "              'legend.fontsize': 6.5, # was 10\n",
    "              'xtick.labelsize': 8,\n",
    "              'ytick.labelsize': 8,\n",
    "              'lines.linewidth' : 0.4,\n",
    "              'lines.markersize' : 0.4,\n",
    "              'text.usetex': True,\n",
    "              'figure.figsize': [fig_width,fig_height],\n",
    "              'font.family': 'serif'\n",
    "    }\n",
    "\n",
    "    matplotlib.rcParams.update(params)\n",
    "\n",
    "\n",
    "def format_axes(ax):\n",
    "\n",
    "    for spine in ['top', 'right']:\n",
    "        ax.spines[spine].set_visible(False)\n",
    "\n",
    "    for spine in ['left', 'bottom']:\n",
    "        ax.spines[spine].set_color(SPINE_COLOR)\n",
    "        ax.spines[spine].set_linewidth(0.5)\n",
    "\n",
    "    ax.xaxis.set_ticks_position('bottom')\n",
    "    ax.yaxis.set_ticks_position('left')\n",
    "\n",
    "    for axis in [ax.xaxis, ax.yaxis]:\n",
    "        axis.set_tick_params(direction='out', color=SPINE_COLOR)\n",
    "\n",
    "    return ax\n",
    "\n",
    "linewidth=497\n",
    "DPI=96\n",
    "#latexify(fig_width=linewidth/DPI, fig_height=int(linewidth/2.3/DPI))\n",
    "latexify(fig_width=linewidth/DPI/1.7, fig_height=int(linewidth/2.3/DPI))"
   ]
  },
  {
   "cell_type": "code",
   "execution_count": 35,
   "metadata": {
    "scrolled": false
   },
   "outputs": [
    {
     "name": "stdout",
     "output_type": "stream",
     "text": [
      "5366.797468354431 7585.2531645569625\n"
     ]
    },
    {
     "data": {
      "image/png": "[encoded data removed]",
      "text/plain": [
       "<matplotlib.figure.Figure at 0x291b3d93400>"
      ]
     },
     "metadata": {},
     "output_type": "display_data"
    }
   ],
   "source": [
    "#rtt values over time\n",
    "for f in glob.iglob('./*2*/*1453*/firstKPIs', recursive=True): # /*directoryRegExp*/ to reduce output (long runtime)\n",
    "    df = pd.read_csv(f, delim_whitespace=True ,names = ['seconds_offset', 'cwin', 'bytes-in-flight', 'nb_ret', \n",
    "                                                        'rtt_min', 'current_rtt', 'srtt', 'rtt_var'])\n",
    "    #df.current_rtt = df.current_rtt.apply(lambda x: x / 1000) #from us to ms\n",
    "    #df.srtt = df.srtt.apply(lambda x: x / 1000)\n",
    "    #df.rtt_min = df.rtt_min.apply(lambda x: x / 1000)\n",
    "    title=f\n",
    "    \n",
    "    print(df.current_rtt.mean(),\n",
    "          df.srtt.mean())\n",
    "    \n",
    "    \n",
    "    fig = df.plot(x=\"seconds_offset\", y=\"current_rtt\", kind='scatter', s=0.01)\n",
    "    x = df.seconds_offset\n",
    "    y1 = df.srtt\n",
    "    fig.plot(x,y1,'y:') # more examples = 'b:' 'k:' 'r--'\n",
    "    y2 = df.rtt_min\n",
    "    fig.plot(x,y2, 'b:')\n",
    "\n",
    "    axes = plt.gca()\n",
    "    axes.set_ylim([-0.05,20000])\n",
    "    #axes.set_xlim([-5,605])\n",
    "    fig.legend(['Smoothed RTT', 'min RTT', 'Current RTT'])\n",
    "    fig.set_xlabel('Runtime (seconds)')\n",
    "    lines = fig.set_ylabel('Time (ms)')\n",
    "    plt.tight_layout()\n",
    "    plt.savefig(f+\"_timing.pdf\")"
   ]
  },
  {
   "cell_type": "code",
   "execution_count": null,
   "metadata": {
    "collapsed": true
   },
   "outputs": [],
   "source": []
  },
  {
   "cell_type": "code",
   "execution_count": null,
   "metadata": {
    "collapsed": true
   },
   "outputs": [],
   "source": []
  }
 ],
 "metadata": {
  "kernelspec": {
   "display_name": "Python 3",
   "language": "python",
   "name": "python3"
  },
  "language_info": {
   "codemirror_mode": {
    "name": "ipython",
    "version": 3
   },
   "file_extension": ".py",
   "mimetype": "text/x-python",
   "name": "python",
   "nbconvert_exporter": "python",
   "pygments_lexer": "ipython3",
   "version": "3.6.1"
  }
 },
 "nbformat": 4,
 "nbformat_minor": 2
}
