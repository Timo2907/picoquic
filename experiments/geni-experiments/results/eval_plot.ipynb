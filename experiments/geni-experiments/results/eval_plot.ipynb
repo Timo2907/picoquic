{
 "cells": [
  {
   "cell_type": "code",
   "execution_count": 2,
   "metadata": {
    "collapsed": true
   },
   "outputs": [],
   "source": [
    "%matplotlib inline\n",
    "import matplotlib.pyplot as plt\n",
    "import numpy as np\n",
    "import pandas as pd\n",
    "import seaborn as sns\n",
    "import matplotlib\n",
    "import glob\n",
    "from math import sqrt\n",
    "from pprint import pprint\n",
    "from time import gmtime, strftime\n",
    "SPINE_COLOR = 'gray'\n",
    "sns.set(style=\"whitegrid\") # or \"darkgrid\""
   ]
  },
  {
   "cell_type": "code",
   "execution_count": 3,
   "metadata": {
    "collapsed": true
   },
   "outputs": [],
   "source": [
    "def latexify(fig_width=None, fig_height=None, columns=1):\n",
    "    \"\"\"Set up matplotlib's RC params for LaTeX plotting.\n",
    "    Call this before plotting a figure.\n",
    "\n",
    "    Parameters\n",
    "    ----------\n",
    "    fig_width : float, optional, inches\n",
    "    fig_height : float,  optional, inches\n",
    "    columns : {1, 2}\n",
    "    \"\"\"\n",
    "\n",
    "    # code adapted from http://www.scipy.org/Cookbook/Matplotlib/LaTeX_Examples\n",
    "\n",
    "    # Width and max height in inches for IEEE journals taken from\n",
    "    # computer.org/cms/Computer.org/Journal%20templates/transactions_art_guide.pdf\n",
    "\n",
    "    assert(columns in [1,2])\n",
    "\n",
    "    if fig_width is None:\n",
    "        fig_width = 3.39 if columns==1 else 6.9 # width in inches\n",
    "\n",
    "    if fig_height is None:\n",
    "        golden_mean = (sqrt(5)-1.0)/2.0    # Aesthetic ratio\n",
    "        fig_height = fig_width*golden_mean # height in inches\n",
    "\n",
    "    MAX_HEIGHT_INCHES = 8.0\n",
    "    if fig_height > MAX_HEIGHT_INCHES:\n",
    "        print(\"WARNING: fig_height too large:\" + fig_height + \n",
    "              \"so will reduce to\" + MAX_HEIGHT_INCHES + \"inches.\")\n",
    "        fig_height = MAX_HEIGHT_INCHES\n",
    "\n",
    "    params = {'backend': 'pdf',\n",
    "              'text.latex.preamble': ['\\\\usepackage{gensymb}'],\n",
    "              'axes.labelsize': 8, # fontsize for x and y labels (was 10)\n",
    "              'axes.titlesize': 8,\n",
    "              'font.size': 8,       #'text.fontsize': 8, # was 10\n",
    "              'legend.fontsize': 6.5, # was 10\n",
    "              'xtick.labelsize': 8,\n",
    "              'ytick.labelsize': 8,\n",
    "              'lines.linewidth' : 0.4,\n",
    "              'lines.markersize' : 0.4,\n",
    "              'text.usetex': True,\n",
    "              'figure.figsize': [fig_width,fig_height],\n",
    "              'font.family': 'serif'\n",
    "    }\n",
    "\n",
    "    matplotlib.rcParams.update(params)\n",
    "\n",
    "\n",
    "def format_axes(ax):\n",
    "\n",
    "    for spine in ['top', 'right']:\n",
    "        ax.spines[spine].set_visible(False)\n",
    "\n",
    "    for spine in ['left', 'bottom']:\n",
    "        ax.spines[spine].set_color(SPINE_COLOR)\n",
    "        ax.spines[spine].set_linewidth(0.5)\n",
    "\n",
    "    ax.xaxis.set_ticks_position('bottom')\n",
    "    ax.yaxis.set_ticks_position('left')\n",
    "\n",
    "    for axis in [ax.xaxis, ax.yaxis]:\n",
    "        axis.set_tick_params(direction='out', color=SPINE_COLOR)\n",
    "\n",
    "    return ax\n",
    "\n",
    "linewidth=497\n",
    "DPI=96\n",
    "#latexify(fig_width=linewidth/DPI, fig_height=int(linewidth/2.3/DPI))\n",
    "latexify(fig_width=linewidth/DPI/1.7, fig_height=int(linewidth/2.3/DPI))"
   ]
  },
  {
   "cell_type": "code",
   "execution_count": 60,
   "metadata": {
    "scrolled": false
   },
   "outputs": [
    {
     "name": "stdout",
     "output_type": "stream",
     "text": [
      ".\\20191207-004432_GENI_107400msgs-100-100-N\\\n",
      "Sent by Client: Received by Server:\n",
      " 107648 107648\n",
      "Retransmissions by Client: Re-Retransmissions: Successful Retransmissions: \n",
      " 253 0 253\n",
      "Retransmissions rate: 0.24 %\n",
      ".\\20191207-131731_GENI_107400msgs_100-100-L\\\n",
      "Sent by Client: Received by Server:\n",
      " 107773 107773\n",
      "Retransmissions by Client: Re-Retransmissions: Successful Retransmissions: \n",
      " 392 0 392\n",
      "Retransmissions rate: 0.36 %\n",
      ".\\20191207-165925_GENI_107400msgs_100-100-F\\\n",
      "Sent by Client: Received by Server:\n",
      " 107753 107753\n",
      "Retransmissions by Client: Re-Retransmissions: Successful Retransmissions: \n",
      " 373 0 373\n",
      "Retransmissions rate: 0.35 %\n"
     ]
    },
    {
     "data": {
      "text/plain": [
       "<matplotlib.axes._subplots.AxesSubplot at 0x1ff63a31828>"
      ]
     },
     "execution_count": 60,
     "metadata": {},
     "output_type": "execute_result"
    },
    {
     "data": {
      "image/png": "[encoded data removed]",
      "text/plain": [
       "<matplotlib.figure.Figure at 0x1ff639a95f8>"
      ]
     },
     "metadata": {},
     "output_type": "display_data"
    }
   ],
   "source": [
    "# GENI\n",
    "dfAll = pd.DataFrame()\n",
    "for f in glob.iglob('./*201912*107400*/', recursive=True): # /*directoryRegExp*/ to reduce output (long runtime)\n",
    "    dfapp = pd.read_csv(f+'serverAppOutput', delim_whitespace=True ,names = \n",
    "                                        ['seconds_offset', 'streamid', 'length', 'msg_number', 'onewaydelay'])\n",
    "    dfstream = pd.read_csv(f+'serverStreamOutput', delim_whitespace=True ,names = \n",
    "                                        ['seconds_offset', 'streamid', 'byte_offset', 'length', 'msg_number', 'onewaydelay'])\n",
    "    dfclient = pd.read_csv(f+'clientStreamOutput', delim_whitespace=True ,names = \n",
    "                                        ['seconds_offset', 'streamid', 'msg_number'])\n",
    "    dfkpi = pd.read_csv(f+'firstKPIs', delim_whitespace=True ,names = \n",
    "                                        ['seconds_offset', 'bytes-in-flight', 'nb-ret', 'rtt_min', 'crtt', 'sendtime', \n",
    "                                         'latest_msg', 'currentackdelay', 'srtt', 'rttvar', 'maxackdelay', 'state'])\n",
    "    print(f)\n",
    "    \n",
    "    msgs_sent = dfclient.msg_number.size\n",
    "    msgs_received = dfstream.msg_number.size\n",
    "    \n",
    "    dfclient['duplicate'] = dfclient.msg_number.duplicated()\n",
    "    \n",
    "    retryList = [];\n",
    "    retryWithoutDuplicates = [];\n",
    "    for i, value in enumerate(dfclient.duplicate):\n",
    "        if(value):\n",
    "            retryList.append(dfclient.msg_number[i])\n",
    "            if(dfclient.msg_number[i] not in retryWithoutDuplicates):\n",
    "                retryWithoutDuplicates.append(dfclient.msg_number[i])\n",
    "    \n",
    "    retriesPerMsg = [];\n",
    "    for msgID in retryList:\n",
    "        if(msgID not in retriesPerMsg):\n",
    "            retriesPerMsg.append(retryList.count(msgID))\n",
    "    \n",
    "    retries = pd.Series(retriesPerMsg)\n",
    "    \n",
    "    #look if the retransmit messages have arrived\n",
    "    arrivedRetransmits = [];\n",
    "\n",
    "    for msg in retryWithoutDuplicates:\n",
    "        if dfstream.msg_number[dfstream.msg_number == msg].size > 0:\n",
    "            arrivedRetransmits.append(msg)\n",
    "    \n",
    "    \n",
    "    print('Sent by Client:', 'Received by Server:\\n', \n",
    "          msgs_sent, msgs_received)\n",
    "    print('Retransmissions by Client:', 'Re-Retransmissions:', 'Successful Retransmissions: \\n',\n",
    "          len(retryList), len(retryList)-len(retryWithoutDuplicates), len(arrivedRetransmits))\n",
    "    print('Retransmissions rate:', round((len(retryList)/msgs_sent)*100, 2), '%')\n",
    "    \n",
    "    \n",
    "    dfkpi.index = range(len(dfkpi))\n",
    "\n",
    "    if '-N' in f:\n",
    "        dfAll['N'] = dfkpi['crtt']\n",
    "    if '-L' in f:\n",
    "        dfAll['L'] = dfkpi['crtt']\n",
    "    if '-F' in f:\n",
    "        dfAll['F'] = dfkpi['crtt']\n",
    "        \n",
    "        \n",
    "#print(dfAll)\n",
    "dfAll.boxplot(showfliers=False)\n",
    "    "
   ]
  },
  {
   "cell_type": "code",
   "execution_count": null,
   "metadata": {
    "collapsed": true
   },
   "outputs": [],
   "source": []
  },
  {
   "cell_type": "code",
   "execution_count": null,
   "metadata": {
    "collapsed": true
   },
   "outputs": [],
   "source": []
  },
  {
   "cell_type": "code",
   "execution_count": null,
   "metadata": {
    "collapsed": true
   },
   "outputs": [],
   "source": []
  },
  {
   "cell_type": "code",
   "execution_count": null,
   "metadata": {
    "collapsed": true
   },
   "outputs": [],
   "source": []
  },
  {
   "cell_type": "code",
   "execution_count": null,
   "metadata": {
    "collapsed": true
   },
   "outputs": [],
   "source": []
  },
  {
   "cell_type": "code",
   "execution_count": null,
   "metadata": {
    "collapsed": true
   },
   "outputs": [],
   "source": []
  }
 ],
 "metadata": {
  "kernelspec": {
   "display_name": "Python 3",
   "language": "python",
   "name": "python3"
  },
  "language_info": {
   "codemirror_mode": {
    "name": "ipython",
    "version": 3
   },
   "file_extension": ".py",
   "mimetype": "text/x-python",
   "name": "python",
   "nbconvert_exporter": "python",
   "pygments_lexer": "ipython3",
   "version": "3.6.1"
  }
 },
 "nbformat": 4,
 "nbformat_minor": 2
}
